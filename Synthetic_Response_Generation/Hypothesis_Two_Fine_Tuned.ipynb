{
 "cells": [
  {
   "cell_type": "code",
   "execution_count": 1,
   "metadata": {},
   "outputs": [],
   "source": [
    "from stata_preprocessing import *\n",
    "from llm_simulation import *\n",
    "from load_environmental_distributions import load_environmental_distribution\n",
    "from visualise_responses import *\n",
    "from fine_tuning_prompts import *\n",
    "import os\n",
    "import random"
   ]
  },
  {
   "cell_type": "code",
   "execution_count": 2,
   "metadata": {},
   "outputs": [],
   "source": [
    "age_groups = [\"18-34\", \"35-54\", \"55 or older\"]\n",
    "base_json_filepath = \"C:\\\\Users\\\\haoch\\\\Documents\\\\COMP0190\\\\Data\\\\COMP0191-MSc-Project-Code\\\\Synthetic-Responses-JSON\\\\Hypothesis-2\""
   ]
  },
  {
   "cell_type": "code",
   "execution_count": 3,
   "metadata": {},
   "outputs": [
    {
     "name": "stdout",
     "output_type": "stream",
     "text": [
      "           sex   marstat               qfhigh racel_dv lnprnt age_dv  \\\n",
      "138043    male   Married     Higher education  British    1.0   55.0   \n",
      "138044  female   Married  Secondary education  British    3.0   57.0   \n",
      "138045  female   Married         inapplicable  British    3.0   32.0   \n",
      "138046    male   Married  Secondary education  British    1.0   33.0   \n",
      "138049    male  Divorced  Secondary education  British    1.0   61.0   \n",
      "...        ...       ...                  ...      ...    ...    ...   \n",
      "159408    male   Married  Secondary education   Indian    1.0   77.0   \n",
      "159409  female   Married  Secondary education   Indian    2.0   46.0   \n",
      "159410    male   Married  Secondary education   Indian    6.0   49.0   \n",
      "159411  female    Single  Secondary education   Indian    1.0   19.0   \n",
      "159412  female    Single  Secondary education   Indian    1.0   17.0   \n",
      "\n",
      "            gor_dv    urban_dv         agegr10_dv  \\\n",
      "138043  North East  urban area    50-59 years old   \n",
      "138044  North East  urban area    50-59 years old   \n",
      "138045  North East  urban area    30-39 years old   \n",
      "138046  North East  urban area    30-39 years old   \n",
      "138049  North East  urban area    60-69 years old   \n",
      "...            ...         ...                ...   \n",
      "159408      London  urban area  70 years or older   \n",
      "159409      London  urban area    40-49 years old   \n",
      "159410      London  urban area    40-49 years old   \n",
      "159411      London  urban area    10-19 years old   \n",
      "159412      London  urban area    10-19 years old   \n",
      "\n",
      "                                            jbnssec_dv  wavename  \\\n",
      "138043               13.3 Routine technical operations      10.0   \n",
      "138044  7.2 Intermediate sales and service occupations      10.0   \n",
      "138045                                    inapplicable      10.0   \n",
      "138046              12.1 Semi-routine sales operations      10.0   \n",
      "138049      9.1 Own account workers (non-professional)      10.0   \n",
      "...                                                ...       ...   \n",
      "159408                                    inapplicable      10.0   \n",
      "159409                                    inapplicable      10.0   \n",
      "159410        3.2 Higher professional: 'new' employees      10.0   \n",
      "159411                                    inapplicable      10.0   \n",
      "159412                                    inapplicable      10.0   \n",
      "\n",
      "                   vote3                                         scenv_crlf  \n",
      "138043             Other  I do quite a few things that are environmental...  \n",
      "138044             Other  I do quite a few things that are environmental...  \n",
      "138045             Other  I do one or two things that are environmentall...  \n",
      "138046             Other  I do one or two things that are environmentall...  \n",
      "138049             Other  I do one or two things that are environmentall...  \n",
      "...                  ...                                                ...  \n",
      "159408            Labour  I do quite a few things that are environmental...  \n",
      "159409            Labour  I do one or two things that are environmentall...  \n",
      "159410  Liberal Democrat  I do quite a few things that are environmental...  \n",
      "159411            Labour  I do one or two things that are environmentall...  \n",
      "159412             Other  I do one or two things that are environmentall...  \n",
      "\n",
      "[11666 rows x 13 columns]\n"
     ]
    }
   ],
   "source": [
    "stata_demo_question_filepath = \"C:\\\\Users\\\\haoch\\\\Documents\\\\COMP0190\\\\Data\\\\COMP0191-MSc-Project-Code\\\\Stata-Results\\\\UKHLS_demo_responses.dta\"\n",
    "\n",
    "stata_demo_question_responses = load_stata_file(stata_demo_question_filepath)\n",
    "\n",
    "stata_demo_question_responses_wave_eight, stata_demo_question_responses_wave_nine, stata_demo_question_responses_wave_ten = [stata_demo_question_responses[stata_demo_question_responses[\"wavename\"] == wavename] for wavename in [8.0, 9.0, 10.0]]\n",
    "\n",
    "stata_demo_question_responses_wave_ten_preprocessed = preprocess_stata_data(stata_demo_question_responses_wave_ten)\n",
    "\n",
    "print(stata_demo_question_responses_wave_ten_preprocessed)"
   ]
  },
  {
   "cell_type": "code",
   "execution_count": 4,
   "metadata": {},
   "outputs": [
    {
     "name": "stdout",
     "output_type": "stream",
     "text": [
      "I do quite a few things that are environmentally-friendly      4743\n",
      "I do one or two things that are environmentally-friendly       4045\n",
      "I'm environmentally-friendly in most things I do               1928\n",
      "I don't really do anything that is environmentally-friendly     684\n",
      "I'm environmentally-friendly in everything I do                 266\n",
      "missing                                                           0\n",
      "inapplicable                                                      0\n",
      "proxy                                                             0\n",
      "refusal                                                           0\n",
      "don't know                                                        0\n",
      "Name: scenv_crlf, dtype: int64\n"
     ]
    }
   ],
   "source": [
    "print(stata_demo_question_responses_wave_ten_preprocessed[\"scenv_crlf\"].value_counts())"
   ]
  },
  {
   "cell_type": "code",
   "execution_count": 5,
   "metadata": {},
   "outputs": [],
   "source": [
    "# Define the list of acceptable response options\n",
    "demo_response_options = [\n",
    "    \"I don't really do anything that is environmentally-friendly\",\n",
    "    \"I do one or two things that are environmentally-friendly\",\n",
    "    \"I do quite a few things that are environmentally-friendly\",\n",
    "    \"I'm environmentally-friendly in most things I do\",\n",
    "    \"I'm environmentally-friendly in everything I do\"\n",
    "]\n",
    "\n",
    "# split the data by responses: \"Don't do Anything Environmentally Friendly\", \"Do One or Two Things Environmentally Friendly\", \"Do Some Things Environmentally Friendly\", \"Do Many Things Environmentally Friendly\", \"Do Everything Environmentally Friendly\"\n",
    "dont_do_anything_responses = stata_demo_question_responses_wave_ten_preprocessed[stata_demo_question_responses_wave_ten_preprocessed['scenv_crlf'] == \"I don't really do anything that is environmentally-friendly\"]\n",
    "\n",
    "do_one_or_two_things_responses = stata_demo_question_responses_wave_ten_preprocessed[stata_demo_question_responses_wave_ten_preprocessed['scenv_crlf'] == \"I do one or two things that are environmentally-friendly\"]\n",
    "\n",
    "do_some_things_responses = stata_demo_question_responses_wave_ten_preprocessed[stata_demo_question_responses_wave_ten_preprocessed['scenv_crlf'] == \"I do quite a few things that are environmentally-friendly\"]\n",
    "\n",
    "do_many_things_responses = stata_demo_question_responses_wave_ten_preprocessed[stata_demo_question_responses_wave_ten_preprocessed['scenv_crlf'] == \"I'm environmentally-friendly in most things I do\"]\n",
    "\n",
    "do_everything_responses = stata_demo_question_responses_wave_ten_preprocessed[stata_demo_question_responses_wave_ten_preprocessed['scenv_crlf'] == \"I'm environmentally-friendly in everything I do\"]"
   ]
  },
  {
   "cell_type": "code",
   "execution_count": 6,
   "metadata": {},
   "outputs": [],
   "source": [
    "def write_balanced_responses_to_json(input_data, variable_name):\n",
    "\n",
    "    num_rows = input_data.shape[0]\n",
    "\n",
    "    print(num_rows)\n",
    "    \n",
    "    unique_indices = random.sample(range(num_rows), 10)\n",
    "\n",
    "    # generate 10 random responses for each response type\n",
    "\n",
    "    for random_index in unique_indices:\n",
    "        random_row = input_data.iloc[random_index]\n",
    "        profile_string, opinion_string = visualise_ukhls_profile_and_response(random_row, variable_name)\n",
    "\n",
    "        if variable_name == \"scenv_crlf\":\n",
    "\n",
    "            demo_json_filepath = \"C:\\\\Users\\\\haoch\\\\Documents\\\\COMP0190\\\\Data\\\\COMP0191-MSc-Project-Code\\\\Stata-Results\\\\stata_demo_question_responses_wave_ten_demo.json\"\n",
    "\n",
    "            # write the profile and opinion to a json file\n",
    "            with open(demo_json_filepath, \"r\") as file:\n",
    "                output_data = json.load(file)\n",
    "\n",
    "            output_data[\"profiles\"].append(profile_string)\n",
    "            output_data[\"opinions\"].append(opinion_string)\n",
    "            \n",
    "            with open(demo_json_filepath, \"w\") as file:\n",
    "                json.dump(output_data, file, indent=4)"
   ]
  },
  {
   "cell_type": "code",
   "execution_count": 8,
   "metadata": {},
   "outputs": [
    {
     "name": "stdout",
     "output_type": "stream",
     "text": [
      "684\n",
      "4045\n",
      "4743\n",
      "1928\n",
      "266\n"
     ]
    }
   ],
   "source": [
    "write_balanced_responses_to_json(dont_do_anything_responses, \"scenv_crlf\")\n",
    "write_balanced_responses_to_json(do_one_or_two_things_responses, \"scenv_crlf\")\n",
    "write_balanced_responses_to_json(do_some_things_responses, \"scenv_crlf\")\n",
    "write_balanced_responses_to_json(do_many_things_responses, \"scenv_crlf\")\n",
    "write_balanced_responses_to_json(do_everything_responses, \"scenv_crlf\")"
   ]
  }
 ],
 "metadata": {
  "kernelspec": {
   "display_name": "Python 3",
   "language": "python",
   "name": "python3"
  },
  "language_info": {
   "codemirror_mode": {
    "name": "ipython",
    "version": 3
   },
   "file_extension": ".py",
   "mimetype": "text/x-python",
   "name": "python",
   "nbconvert_exporter": "python",
   "pygments_lexer": "ipython3",
   "version": "3.11.0"
  }
 },
 "nbformat": 4,
 "nbformat_minor": 2
}
