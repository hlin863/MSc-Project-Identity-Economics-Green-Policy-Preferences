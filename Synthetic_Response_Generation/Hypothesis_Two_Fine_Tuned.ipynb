{
 "cells": [
  {
   "cell_type": "code",
   "execution_count": 1,
   "metadata": {},
   "outputs": [],
   "source": [
    "from stata_preprocessing import *\n",
    "from llm_simulation import *\n",
    "from load_environmental_distributions import load_environmental_distribution\n",
    "# from visualise_responses import *\n",
    "from fine_tuning_prompts import *\n",
    "import os\n",
    "import random\n",
    "from openai import OpenAI"
   ]
  },
  {
   "cell_type": "code",
   "execution_count": 2,
   "metadata": {},
   "outputs": [],
   "source": [
    "age_groups = [\"18-34\", \"35-54\", \"55 or older\"]\n",
    "base_json_filepath = \"C:\\\\Users\\\\haoch\\\\Documents\\\\COMP0190\\\\Data\\\\COMP0191-MSc-Project-Code\\\\Synthetic-Responses-JSON\\\\Hypothesis-2\"\n",
    "base_stata_filepath = \"C:\\\\Users\\\\haoch\\\\Documents\\\\COMP0190\\\\Data\\\\COMP0191-MSc-Project-Code\\\\Stata-Results\\\\\""
   ]
  },
  {
   "cell_type": "code",
   "execution_count": 3,
   "metadata": {},
   "outputs": [],
   "source": [
    "def load_stata_response_file(base_path, question_number):\n",
    "\n",
    "    if question_number == \"zero\":\n",
    "\n",
    "        stata_filepath = os.path.join(base_path, \"UKHLS_demo_responses.dta\")\n",
    "\n",
    "    else:\n",
    "\n",
    "        stata_filepath = os.path.join(base_path, f\"UKHLS_question_{question_number}_responses.dta\")\n",
    "\n",
    "    stata_responses = load_stata_file(stata_filepath)\n",
    "\n",
    "    stata_response_wave_eight, stata_response_wave_nine, stata_response_wave_ten = [stata_responses[stata_responses[\"wavename\"] == wavename] for wavename in [8.0, 9.0, 10.0]]\n",
    "\n",
    "    return stata_response_wave_eight, stata_response_wave_nine, stata_response_wave_ten\n"
   ]
  },
  {
   "cell_type": "code",
   "execution_count": 4,
   "metadata": {},
   "outputs": [],
   "source": [
    "stata_question_one_response_wave_eight, stata_question_one_response_wave_nine, stata_question_one_response_wave_ten = load_stata_response_file(base_stata_filepath, \"one\")"
   ]
  },
  {
   "cell_type": "code",
   "execution_count": 5,
   "metadata": {},
   "outputs": [
    {
     "name": "stdout",
     "output_type": "stream",
     "text": [
      "          pidp       hidp fihhmnlabgrs_dv     sex                 marstat  \\\n",
      "109302   22445  277059218     5996.049805  female                 Married   \n",
      "109303   29925  618630018          1666.0  female                Divorced   \n",
      "109304   76165  141460418          6732.0  female                 Married   \n",
      "109305  280165  754371618         12333.0  female                 Married   \n",
      "109306  333205  414800018     4782.819824  female  Single, nvr marr/civ p   \n",
      "\n",
      "              qfhigh                                           racel_dv  \\\n",
      "109302  inapplicable  british/english/scottish/welsh/northern irish ...   \n",
      "109303  inapplicable  british/english/scottish/welsh/northern irish ...   \n",
      "109304  inapplicable  british/english/scottish/welsh/northern irish ...   \n",
      "109305  inapplicable  british/english/scottish/welsh/northern irish ...   \n",
      "109306  inapplicable  british/english/scottish/welsh/northern irish ...   \n",
      "\n",
      "              lnprnt age_dv         gor_dv    urban_dv       agegr10_dv  \\\n",
      "109302  inapplicable   33.0         London  urban area  30-39 years old   \n",
      "109303  inapplicable   41.0         London  urban area  40-49 years old   \n",
      "109304  inapplicable   35.0  West Midlands  urban area  30-39 years old   \n",
      "109305  inapplicable   39.0     South East  rural area  30-39 years old   \n",
      "109306  inapplicable   28.0  West Midlands  urban area  20-29 years old   \n",
      "\n",
      "                                               jbnssec_dv  wavename    vote3  \\\n",
      "109302               12.2 Semi-routine service operations      10.0  missing   \n",
      "109303     7.2 Intermediate sales and service occupations      10.0  missing   \n",
      "109304  4.1 Lower prof./higher techn.: 'traditional' e...      10.0  missing   \n",
      "109305         2 Higher managerial and admin. Occupations      10.0  missing   \n",
      "109306     7.2 Intermediate sales and service occupations      10.0  missing   \n",
      "\n",
      "                        scenv_bccc  \n",
      "109302  Neither agree nor disagree  \n",
      "109303               Tend to agree  \n",
      "109304  Neither agree nor disagree  \n",
      "109305               Tend to agree  \n",
      "109306              Strongly agree  \n"
     ]
    }
   ],
   "source": [
    "print(stata_question_one_response_wave_ten.head())"
   ]
  },
  {
   "cell_type": "code",
   "execution_count": 6,
   "metadata": {},
   "outputs": [],
   "source": [
    "stata_question_one_response_wave_ten = preprocess_stata_data(stata_question_one_response_wave_ten)"
   ]
  },
  {
   "cell_type": "code",
   "execution_count": 7,
   "metadata": {},
   "outputs": [
    {
     "name": "stdout",
     "output_type": "stream",
     "text": [
      "Tend to agree                 4680\n",
      "Neither agree nor disagree    4011\n",
      "Tend to disagree              1453\n",
      "Strongly agree                1223\n",
      "proxy                          525\n",
      "inapplicable                   524\n",
      "Strongly disagree              317\n",
      "missing                          0\n",
      "refusal                          0\n",
      "don't know                       0\n",
      "Name: scenv_bccc, dtype: int64\n"
     ]
    }
   ],
   "source": [
    "print(stata_question_one_response_wave_ten[\"scenv_bccc\"].value_counts())"
   ]
  },
  {
   "cell_type": "code",
   "execution_count": 8,
   "metadata": {},
   "outputs": [],
   "source": [
    "question_one_strongly_agree = stata_question_one_response_wave_ten[stata_question_one_response_wave_ten[\"scenv_bccc\"] == \"Strongly agree\"]\n",
    "question_one_agree = stata_question_one_response_wave_ten[stata_question_one_response_wave_ten[\"scenv_bccc\"] == \"Tend to agree\"]\n",
    "question_one_neutral = stata_question_one_response_wave_ten[stata_question_one_response_wave_ten[\"scenv_bccc\"] == \"Neither agree nor disagree\"]\n",
    "question_one_disagree = stata_question_one_response_wave_ten[stata_question_one_response_wave_ten[\"scenv_bccc\"] == \"Tend to disagree\"]\n",
    "question_one_strongly_disagree = stata_question_one_response_wave_ten[stata_question_one_response_wave_ten[\"scenv_bccc\"] == \"Strongly disagree\"]"
   ]
  },
  {
   "cell_type": "code",
   "execution_count": 9,
   "metadata": {},
   "outputs": [
    {
     "name": "stdout",
     "output_type": "stream",
     "text": [
      "           sex   marstat               qfhigh racel_dv lnprnt age_dv  \\\n",
      "138043    male   Married  Secondary education  British    3.0   55.0   \n",
      "138044  female   Married  Secondary education  British    2.0   57.0   \n",
      "138045  female   Married         inapplicable  British    1.0   32.0   \n",
      "138046    male   Married  Secondary education  British    3.0   33.0   \n",
      "138049    male  Divorced  Secondary education  British    2.0   61.0   \n",
      "...        ...       ...                  ...      ...    ...    ...   \n",
      "159408    male   Married         inapplicable   Indian    2.0   77.0   \n",
      "159409  female   Married  Secondary education   Indian    6.0   46.0   \n",
      "159410    male   Married  Secondary education   Indian    2.0   49.0   \n",
      "159411  female    Single  Secondary education   Indian    2.0   19.0   \n",
      "159412  female    Single  Secondary education   Indian    2.0   17.0   \n",
      "\n",
      "            gor_dv    urban_dv         agegr10_dv  \\\n",
      "138043  North East  urban area    50-59 years old   \n",
      "138044  North East  urban area    50-59 years old   \n",
      "138045  North East  urban area    30-39 years old   \n",
      "138046  North East  urban area    30-39 years old   \n",
      "138049  North East  urban area    60-69 years old   \n",
      "...            ...         ...                ...   \n",
      "159408      London  urban area  70 years or older   \n",
      "159409      London  urban area    40-49 years old   \n",
      "159410      London  urban area    40-49 years old   \n",
      "159411      London  urban area    10-19 years old   \n",
      "159412      London  urban area    10-19 years old   \n",
      "\n",
      "                                            jbnssec_dv  wavename  \\\n",
      "138043               13.3 Routine technical operations      10.0   \n",
      "138044  7.2 Intermediate sales and service occupations      10.0   \n",
      "138045                                    inapplicable      10.0   \n",
      "138046              12.1 Semi-routine sales operations      10.0   \n",
      "138049      9.1 Own account workers (non-professional)      10.0   \n",
      "...                                                ...       ...   \n",
      "159408                                    inapplicable      10.0   \n",
      "159409                                    inapplicable      10.0   \n",
      "159410        3.2 Higher professional: 'new' employees      10.0   \n",
      "159411                                    inapplicable      10.0   \n",
      "159412                                    inapplicable      10.0   \n",
      "\n",
      "                   vote3                                         scenv_crlf  \n",
      "138043             Other  I do quite a few things that are environmental...  \n",
      "138044             Other  I do quite a few things that are environmental...  \n",
      "138045             Other  I do one or two things that are environmentall...  \n",
      "138046             Other  I do one or two things that are environmentall...  \n",
      "138049             Other  I do one or two things that are environmentall...  \n",
      "...                  ...                                                ...  \n",
      "159408            Labour  I do quite a few things that are environmental...  \n",
      "159409            Labour  I do one or two things that are environmentall...  \n",
      "159410  Liberal Democrat  I do quite a few things that are environmental...  \n",
      "159411            Labour  I do one or two things that are environmentall...  \n",
      "159412             Other  I do one or two things that are environmentall...  \n",
      "\n",
      "[11666 rows x 13 columns]\n"
     ]
    }
   ],
   "source": [
    "stata_demo_question_filepath = \"C:\\\\Users\\\\haoch\\\\Documents\\\\COMP0190\\\\Data\\\\COMP0191-MSc-Project-Code\\\\Stata-Results\\\\UKHLS_demo_responses.dta\"\n",
    "\n",
    "stata_demo_question_responses = load_stata_file(stata_demo_question_filepath)\n",
    "\n",
    "stata_demo_question_responses_wave_eight, stata_demo_question_responses_wave_nine, stata_demo_question_responses_wave_ten = [stata_demo_question_responses[stata_demo_question_responses[\"wavename\"] == wavename] for wavename in [8.0, 9.0, 10.0]]\n",
    "\n",
    "stata_demo_question_responses_wave_ten_preprocessed = preprocess_stata_data(stata_demo_question_responses_wave_ten)\n",
    "\n",
    "print(stata_demo_question_responses_wave_ten_preprocessed)"
   ]
  },
  {
   "cell_type": "code",
   "execution_count": 10,
   "metadata": {},
   "outputs": [
    {
     "name": "stdout",
     "output_type": "stream",
     "text": [
      "I do quite a few things that are environmentally-friendly      4743\n",
      "I do one or two things that are environmentally-friendly       4045\n",
      "I'm environmentally-friendly in most things I do               1928\n",
      "I don't really do anything that is environmentally-friendly     684\n",
      "I'm environmentally-friendly in everything I do                 266\n",
      "missing                                                           0\n",
      "inapplicable                                                      0\n",
      "proxy                                                             0\n",
      "refusal                                                           0\n",
      "don't know                                                        0\n",
      "Name: scenv_crlf, dtype: int64\n"
     ]
    }
   ],
   "source": [
    "print(stata_demo_question_responses_wave_ten_preprocessed[\"scenv_crlf\"].value_counts())"
   ]
  },
  {
   "cell_type": "code",
   "execution_count": 11,
   "metadata": {},
   "outputs": [],
   "source": [
    "# Define the list of acceptable response options\n",
    "demo_response_options = [\n",
    "    \"I don't really do anything that is environmentally-friendly\",\n",
    "    \"I do one or two things that are environmentally-friendly\",\n",
    "    \"I do quite a few things that are environmentally-friendly\",\n",
    "    \"I'm environmentally-friendly in most things I do\",\n",
    "    \"I'm environmentally-friendly in everything I do\"\n",
    "]\n",
    "\n",
    "# split the data by responses: \"Don't do Anything Environmentally Friendly\", \"Do One or Two Things Environmentally Friendly\", \"Do Some Things Environmentally Friendly\", \"Do Many Things Environmentally Friendly\", \"Do Everything Environmentally Friendly\"\n",
    "dont_do_anything_responses = stata_demo_question_responses_wave_ten_preprocessed[stata_demo_question_responses_wave_ten_preprocessed['scenv_crlf'] == \"I don't really do anything that is environmentally-friendly\"]\n",
    "\n",
    "do_one_or_two_things_responses = stata_demo_question_responses_wave_ten_preprocessed[stata_demo_question_responses_wave_ten_preprocessed['scenv_crlf'] == \"I do one or two things that are environmentally-friendly\"]\n",
    "\n",
    "do_some_things_responses = stata_demo_question_responses_wave_ten_preprocessed[stata_demo_question_responses_wave_ten_preprocessed['scenv_crlf'] == \"I do quite a few things that are environmentally-friendly\"]\n",
    "\n",
    "do_many_things_responses = stata_demo_question_responses_wave_ten_preprocessed[stata_demo_question_responses_wave_ten_preprocessed['scenv_crlf'] == \"I'm environmentally-friendly in most things I do\"]\n",
    "\n",
    "do_everything_responses = stata_demo_question_responses_wave_ten_preprocessed[stata_demo_question_responses_wave_ten_preprocessed['scenv_crlf'] == \"I'm environmentally-friendly in everything I do\"]"
   ]
  },
  {
   "cell_type": "code",
   "execution_count": 12,
   "metadata": {},
   "outputs": [],
   "source": [
    "def write_balanced_responses_to_json(input_data, variable_name):\n",
    "\n",
    "    num_rows = input_data.shape[0]\n",
    "\n",
    "    print(num_rows)\n",
    "    \n",
    "    unique_indices = random.sample(range(num_rows), 10)\n",
    "\n",
    "    # generate 10 random responses for each response type\n",
    "\n",
    "    for random_index in unique_indices:\n",
    "        random_row = input_data.iloc[random_index]\n",
    "        profile_string, opinion_string = visualise_ukhls_profile_and_response(random_row, variable_name)\n",
    "\n",
    "        if variable_name == \"scenv_crlf\":\n",
    "\n",
    "            demo_json_filepath = \"C:\\\\Users\\\\haoch\\\\Documents\\\\COMP0190\\\\Data\\\\COMP0191-MSc-Project-Code\\\\Stata-Results\\\\stata_demo_question_responses_wave_ten_demo.json\"\n",
    "\n",
    "            # write the profile and opinion to a json file\n",
    "            with open(demo_json_filepath, \"r\") as file:\n",
    "                output_data = json.load(file)\n",
    "\n",
    "            output_data[\"profiles\"].append(profile_string)\n",
    "            output_data[\"opinions\"].append(opinion_string)\n",
    "            \n",
    "            with open(demo_json_filepath, \"w\") as file:\n",
    "                json.dump(output_data, file, indent=4)\n",
    "\n",
    "        if variable_name == \"scenv_bccc\":\n",
    "\n",
    "            question_one_json_filepath = \"C:\\\\Users\\\\haoch\\\\Documents\\\\COMP0190\\\\Data\\\\COMP0191-MSc-Project-Code\\\\Stata-Results\\\\stata_question_one_responses_wave_ten.json\"\n",
    "\n",
    "            # write the profile and opinion to a json file\n",
    "            with open(question_one_json_filepath, \"r\") as file:\n",
    "                output_data = json.load(file)\n",
    "\n",
    "            output_data[\"profiles\"].append(profile_string)\n",
    "            output_data[\"opinions\"].append(opinion_string)\n",
    "            \n",
    "            with open(question_one_json_filepath, \"w\") as file:\n",
    "                json.dump(output_data, file, indent=4)"
   ]
  },
  {
   "cell_type": "code",
   "execution_count": 13,
   "metadata": {},
   "outputs": [
    {
     "name": "stdout",
     "output_type": "stream",
     "text": [
      "Other                     221\n",
      "Labour                     50\n",
      "Conservatives              34\n",
      "Liberal Democrat           12\n",
      "missing                     0\n",
      "refusal                     0\n",
      "don't know                  0\n",
      "Ulster Unionist             0\n",
      "sdlp                        0\n",
      "Democratic Unionist         0\n",
      "Sinn Fein                   0\n",
      "British National Party      0\n",
      "Name: vote3, dtype: int64\n"
     ]
    }
   ],
   "source": [
    "# check the variable \"question_one_strongly_disagree\"\n",
    "print(question_one_strongly_disagree[\"vote3\"].value_counts())"
   ]
  },
  {
   "cell_type": "code",
   "execution_count": null,
   "metadata": {},
   "outputs": [],
   "source": [
    "write_balanced_responses_to_json(question_one_strongly_agree, \"scenv_bccc\")\n",
    "write_balanced_responses_to_json(question_one_agree, \"scenv_bccc\")\n",
    "write_balanced_responses_to_json(question_one_neutral, \"scenv_bccc\")\n",
    "write_balanced_responses_to_json(question_one_disagree, \"scenv_bccc\")\n",
    "write_balanced_responses_to_json(question_one_strongly_disagree, \"scenv_bccc\")"
   ]
  },
  {
   "cell_type": "code",
   "execution_count": null,
   "metadata": {},
   "outputs": [],
   "source": [
    "write_balanced_responses_to_json(dont_do_anything_responses, \"scenv_crlf\")\n",
    "write_balanced_responses_to_json(do_one_or_two_things_responses, \"scenv_crlf\")\n",
    "write_balanced_responses_to_json(do_some_things_responses, \"scenv_crlf\")\n",
    "write_balanced_responses_to_json(do_many_things_responses, \"scenv_crlf\")\n",
    "write_balanced_responses_to_json(do_everything_responses, \"scenv_crlf\")"
   ]
  },
  {
   "cell_type": "code",
   "execution_count": null,
   "metadata": {},
   "outputs": [],
   "source": [
    "# convert \"Stata-Results/stata_demo_question_responses_wave_ten_demo.json\" to \"Stata-Results/stata_demo_question_responses_wave_ten_demo.jsonl\"\n",
    "def convert_json_to_jsonl(json_file_path, jsonl_file_path):\n",
    "    # format the responses in this structure \"{\"messages\": [{\"role\": \"system\", \"content\": \"Marv is a factual chatbot that is also sarcastic.\"}, {\"role\": \"user\", \"content\": \"What's the capital of France?\"}, {\"role\": \"assistant\", \"content\": \"Paris, as if everyone doesn't know that already.\"}]}\"\n",
    "    with open(json_file_path, \"r\") as file:\n",
    "        data = json.load(file)\n",
    "\n",
    "    # {\"role\": \"system\", \"content\": \"You are a happy assistant that puts a positive spin on everything.\"}\n",
    "    # {\"role\": \"user\", \"content\": \"I fell off my bike today.\"}\n",
    "\n",
    "    with open(jsonl_file_path, \"w\") as file:\n",
    "        for i in range(len(data[\"profiles\"])):\n",
    "            # Prepare system prompt\n",
    "            system_prompt = {\"role\": \"system\", \"content\": data[\"profiles\"][i]}\n",
    "            \n",
    "            # Prepare assistant response\n",
    "            assistant_response = {\"role\": \"assistant\", \"content\": data[\"opinions\"][i]}\n",
    "\n",
    "            # Create a message list and wrap it in a dictionary\n",
    "            message_dict = {\"messages\": [system_prompt, assistant_response]}\n",
    "            \n",
    "            # Dump the dictionary as a JSON formatted string to the JSONL file\n",
    "            json.dump(message_dict, file)\n",
    "            file.write(\"\\n\")"
   ]
  },
  {
   "cell_type": "code",
   "execution_count": null,
   "metadata": {},
   "outputs": [],
   "source": [
    "demo_json_filepath = \"C:\\\\Users\\\\haoch\\\\Documents\\\\COMP0190\\\\Data\\\\COMP0191-MSc-Project-Code\\\\Stata-Results\\\\stata_demo_question_responses_wave_ten_demo.json\"\n",
    "demo_jsonl_filepath = \"C:\\\\Users\\\\haoch\\\\Documents\\\\COMP0190\\\\Data\\\\COMP0191-MSc-Project-Code\\\\Stata-Results\\\\stata_demo_question_responses_wave_ten_demo.jsonl\"\n",
    "convert_json_to_jsonl(demo_json_filepath, demo_jsonl_filepath)"
   ]
  },
  {
   "cell_type": "code",
   "execution_count": null,
   "metadata": {},
   "outputs": [],
   "source": [
    "question_one_json_filepath = \"C:\\\\Users\\\\haoch\\\\Documents\\\\COMP0190\\\\Data\\\\COMP0191-MSc-Project-Code\\\\Stata-Results\\\\stata_question_one_responses_wave_ten.json\"\n",
    "question_one_jsonl_filepath = \"C:\\\\Users\\\\haoch\\\\Documents\\\\COMP0190\\\\Data\\\\COMP0191-MSc-Project-Code\\\\Stata-Results\\\\stata_question_one_responses_wave_ten.jsonl\"\n",
    "convert_json_to_jsonl(question_one_json_filepath, question_one_jsonl_filepath)"
   ]
  },
  {
   "cell_type": "code",
   "execution_count": null,
   "metadata": {},
   "outputs": [],
   "source": [
    "# Load the dataset\n",
    "with open(demo_jsonl_filepath, 'r', encoding='utf-8') as f:\n",
    "    dataset = [json.loads(line) for line in f]\n",
    "\n",
    "# Initial dataset stats\n",
    "print(\"Num examples:\", len(dataset))\n",
    "print(\"First example:\")\n",
    "for message in dataset[0][\"messages\"]:\n",
    "    print(message)"
   ]
  },
  {
   "cell_type": "code",
   "execution_count": null,
   "metadata": {},
   "outputs": [],
   "source": [
    "hypothesis_one_model_demo_question = OpenAI()"
   ]
  },
  {
   "cell_type": "code",
   "execution_count": null,
   "metadata": {},
   "outputs": [],
   "source": [
    "from api_key import get_api_key\n",
    "\n",
    "api_key = get_api_key()"
   ]
  },
  {
   "cell_type": "code",
   "execution_count": null,
   "metadata": {},
   "outputs": [],
   "source": [
    "demo_question_model_id = \"ft:gpt-3.5-turbo-0125:personal::9lfqGolS\""
   ]
  },
  {
   "cell_type": "code",
   "execution_count": null,
   "metadata": {},
   "outputs": [],
   "source": [
    "def fine_tune_model(path, api_key):\n",
    "    client = OpenAI(api_key = api_key)\n",
    "\n",
    "    response = client.files.create(\n",
    "        file=open(path, 'rb'),\n",
    "        purpose = 'fine-tune'\n",
    "    )\n",
    "\n",
    "    print(response)\n",
    "    response_id = response.id"
   ]
  },
  {
   "cell_type": "code",
   "execution_count": null,
   "metadata": {},
   "outputs": [],
   "source": [
    "fine_tune_model(question_one_jsonl_filepath, api_key)"
   ]
  },
  {
   "cell_type": "code",
   "execution_count": null,
   "metadata": {},
   "outputs": [],
   "source": [
    "hypothesis_one_question_one_model = OpenAI()\n",
    "\n",
    "hypothesis_one_question_one_model.fine_tuning.jobs.create(training_file=\"file-yBmuLEUu1I1MXzYRXGOkcZnn\", model=\"gpt-3.5-turbo\")"
   ]
  },
  {
   "cell_type": "code",
   "execution_count": 14,
   "metadata": {},
   "outputs": [
    {
     "name": "stdout",
     "output_type": "stream",
     "text": [
      "scenv_bccc\n",
      "scenv_bccc\n"
     ]
    }
   ],
   "source": [
    "question_one_model_id = \"ft:gpt-3.5-turbo-0125:personal::9lvoEKL1\"\n",
    "question_number = 3\n",
    "question_one = \"Please select the extent to which you agree or disagree with the following statement: My behaviour and everyday lifestyle contribute to climate change.\"\n",
    "question_one_response_options = [\"Strongly agree\", \"Tend to agree\", \"Neither agree nor disagree\", \"Tend to disagree\", \"Strongly disagree\"]\n",
    "n_samples = 100\n",
    "json_filepath = \"C:\\\\Users\\\\haoch\\\\Documents\\\\COMP0190\\\\Data\\\\COMP0191-MSc-Project-Code\\\\Synthetic-Responses-JSON\\\\question_one_responses_finetuned.json\"\n",
    "distributions = [load_environmental_distribution(\"scenv_bccc\", 4), load_environmental_distribution(\"scenv_bccc\", 10)]\n",
    "wave_numbers = [1, 4, 10]\n",
    "is_simulate = True"
   ]
  },
  {
   "cell_type": "code",
   "execution_count": 15,
   "metadata": {},
   "outputs": [
    {
     "name": "stdout",
     "output_type": "stream",
     "text": [
      "{'Strongly agree': 0.0646, 'Tend to agree': 0.305, 'Neither': 0.322, 'Tend to disagree': 0.1, 'Strongly disagree': 0.0294}\n",
      "{'Strongly agree': 0.0813, 'Tend to agree': 0.3675, 'Neither': 0.3391, 'Tend to disagree': 0.1186, 'Strongly disagree': 0.0251}\n"
     ]
    }
   ],
   "source": [
    "# display the two distributions\n",
    "for distribution in distributions:\n",
    "    print(distribution)"
   ]
  },
  {
   "cell_type": "code",
   "execution_count": null,
   "metadata": {},
   "outputs": [],
   "source": [
    "simulate_environmental_responses(question_one, question_number, question_one_response_options, n_samples, json_filepath, distributions, wave_numbers, 1, is_simulate, 0, \"\", True, question_one_model_id)"
   ]
  },
  {
   "cell_type": "code",
   "execution_count": 20,
   "metadata": {},
   "outputs": [
    {
     "name": "stdout",
     "output_type": "stream",
     "text": [
      "{'Strongly agree': 0.0646, 'Tend to agree': 0.305, 'Neither': 0.322, 'Tend to disagree': 0.1, 'Strongly disagree': 0.0294}\n"
     ]
    },
    {
     "data": {
      "image/png": "[encoded data removed]",
      "text/plain": [
       "<Figure size 640x480 with 1 Axes>"
      ]
     },
     "metadata": {},
     "output_type": "display_data"
    },
    {
     "name": "stdout",
     "output_type": "stream",
     "text": [
      "{'Strongly agree': 0.0813, 'Tend to agree': 0.3675, 'Neither': 0.3391, 'Tend to disagree': 0.1186, 'Strongly disagree': 0.0251}\n"
     ]
    },
    {
     "data": {
      "image/png": "[encoded data removed]",
      "text/plain": [
       "<Figure size 640x480 with 1 Axes>"
      ]
     },
     "metadata": {},
     "output_type": "display_data"
    }
   ],
   "source": [
    "wave_numbers = [4, 10]\n",
    "\n",
    "wave_number_index = 0\n",
    "for distribution in distributions:\n",
    "    print(distribution)\n",
    "    visualise_synthetic_and_ukhls_distributions(json_filepath, question_one, question_number, distribution, wave_numbers[wave_number_index], True)\n",
    "    wave_number_index += 1"
   ]
  },
  {
   "cell_type": "code",
   "execution_count": null,
   "metadata": {},
   "outputs": [],
   "source": [
    "# client = OpenAI(api_key = api_key)\n",
    "\n",
    "# response = client.files.create(\n",
    "#     file=open(demo_jsonl_filepath, 'rb'),\n",
    "#     purpose = 'fine-tune'\n",
    "# )\n",
    "\n",
    "# print(response)\n",
    "# response_id = response.id"
   ]
  },
  {
   "cell_type": "code",
   "execution_count": null,
   "metadata": {},
   "outputs": [],
   "source": [
    "# hypothesis_one_model_demo_question.fine_tuning.jobs.create(training_file = response_id, model=\"gpt-3.5-turbo\")"
   ]
  },
  {
   "cell_type": "code",
   "execution_count": null,
   "metadata": {},
   "outputs": [],
   "source": [
    "demo_question = \"And which of these would you say best describes your current lifestyle?\"\n",
    "question_number = 1\n",
    "demo_potential_answers = [\"Don't do Anything Environmentally Friendly\", \"Do One or Two Things Environmentally Friendly\", \"Do Some Things Environmentally Friendly\", \"Do Many Things Environmentally Friendly\", \"Do Everything Environmentally Friendly\"]\n",
    "n_samples = 100\n",
    "json_filepath = \"C:\\\\Users\\\\haoch\\\\Documents\\\\COMP0190\\\\Data\\\\COMP0191-MSc-Project-Code\\\\Synthetic-Responses-JSON\\\\synthetic_demo_responses_finetuned.json\"\n",
    "distributions = [load_environmental_distribution(\"scenv_crlf\", 1), load_environmental_distribution(\"scenv_crlf\", 4), load_environmental_distribution(\"scenv_crlf\", 10)]\n",
    "wave_numbers = [1, 4, 10]\n",
    "is_simulate = True"
   ]
  },
  {
   "cell_type": "code",
   "execution_count": null,
   "metadata": {},
   "outputs": [],
   "source": [
    "simulate_environmental_responses(demo_question, question_number, demo_potential_answers, n_samples, json_filepath, distributions, wave_numbers, 1, is_simulate, 0, \"\", True, demo_question_model_id)"
   ]
  }
 ],
 "metadata": {
  "kernelspec": {
   "display_name": "Python 3",
   "language": "python",
   "name": "python3"
  },
  "language_info": {
   "codemirror_mode": {
    "name": "ipython",
    "version": 3
   },
   "file_extension": ".py",
   "mimetype": "text/x-python",
   "name": "python",
   "nbconvert_exporter": "python",
   "pygments_lexer": "ipython3",
   "version": "3.11.0"
  }
 },
 "nbformat": 4,
 "nbformat_minor": 2
}
