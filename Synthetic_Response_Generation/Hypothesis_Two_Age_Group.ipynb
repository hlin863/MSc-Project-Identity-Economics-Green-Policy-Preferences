{
 "cells": [
  {
   "cell_type": "code",
   "execution_count": 1,
   "metadata": {},
   "outputs": [],
   "source": [
    "from llm_simulation import *\n",
    "from load_environmental_distributions import load_environmental_distribution\n",
    "import os"
   ]
  },
  {
   "cell_type": "code",
   "execution_count": 2,
   "metadata": {},
   "outputs": [],
   "source": [
    "age_groups = [\"18 - 34\", \"35 - 54\", \"55 or older\"]\n",
    "base_json_filepath = \"C:\\\\Users\\\\haoch\\\\Documents\\\\COMP0190\\\\Data\\\\COMP0191-MSc-Project-Code\\\\Synthetic-Responses-JSON\\\\Hypothesis-2\""
   ]
  },
  {
   "cell_type": "markdown",
   "metadata": {},
   "source": [
    "# Demo question"
   ]
  },
  {
   "cell_type": "code",
   "execution_count": 3,
   "metadata": {},
   "outputs": [],
   "source": [
    "demo_question = \"And which of these would you say best describes your current lifestyle?\"\n",
    "question_number = 1\n",
    "demo_potential_answers = [\"Don't do Anything Environmentally Friendly\", \"Do One or Two Things Environmentally Friendly\", \"Do Some Things Environmentally Friendly\", \"Do Many Things Environmentally Friendly\", \"Do Everything Environmentally Friendly\"]\n",
    "n_samples = 10\n",
    "distributions = [load_environmental_distribution(\"scenv_crlf\", 1), load_environmental_distribution(\"scenv_crlf\", 4), load_environmental_distribution(\"scenv_crlf\", 10)]\n",
    "wave_numbers = [1, 4, 10]\n",
    "is_simulate = True"
   ]
  },
  {
   "cell_type": "code",
   "execution_count": 4,
   "metadata": {},
   "outputs": [
    {
     "name": "stdout",
     "output_type": "stream",
     "text": [
      "Sample size: 0\n",
      "Sample size: 0\n",
      "Sample size: 0\n"
     ]
    }
   ],
   "source": [
    "for age_group in age_groups:\n",
    "    json_filepath = base_json_filepath + f\"\\\\demo_question_{age_group}.json\"\n",
    "    # create the JSON file if it does not exist\n",
    "    if not os.path.exists(json_filepath):\n",
    "        with open(json_filepath, \"w\") as f:\n",
    "            f.write(\"[]\")\n",
    "\n",
    "    simulate_environmental_responses(demo_question, question_number, demo_potential_answers, n_samples, json_filepath, distributions, wave_numbers, 1, is_simulate, 1, \"18-34\")"
   ]
  }
 ],
 "metadata": {
  "kernelspec": {
   "display_name": "Python 3",
   "language": "python",
   "name": "python3"
  },
  "language_info": {
   "codemirror_mode": {
    "name": "ipython",
    "version": 3
   },
   "file_extension": ".py",
   "mimetype": "text/x-python",
   "name": "python",
   "nbconvert_exporter": "python",
   "pygments_lexer": "ipython3",
   "version": "3.11.0"
  }
 },
 "nbformat": 4,
 "nbformat_minor": 2
}
