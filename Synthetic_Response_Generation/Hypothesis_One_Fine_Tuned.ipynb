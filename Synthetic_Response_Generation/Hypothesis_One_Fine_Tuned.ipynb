{
 "cells": [
  {
   "cell_type": "code",
   "execution_count": 1,
   "metadata": {},
   "outputs": [],
   "source": [
    "from stata_preprocessing import *\n",
    "from llm_simulation import *\n",
    "from load_environmental_distributions import load_environmental_distribution\n",
    "# from visualise_responses import *\n",
    "from fine_tuning_prompts import *\n",
    "import os\n",
    "import random\n",
    "from openai import OpenAI"
   ]
  },
  {
   "cell_type": "code",
   "execution_count": 2,
   "metadata": {},
   "outputs": [],
   "source": [
    "stata_data_filepath = \"C:\\\\Users\\\\haoch\\\\Documents\\\\COMP0190\\\\Data\\\\COMP0191-MSc-Project-Code\\\\Stata-Results\\\\UKHLS_fine_tuning_responses.dta\"\n",
    "base_environmental_views_filepath = \"C:\\\\Users\\\\haoch\\\\Documents\\\\COMP0190\\\\Data\\\\COMP0191-MSc-Project-Code\\\\Environmental-Views-Variables\\\\\""
   ]
  },
  {
   "cell_type": "code",
   "execution_count": 3,
   "metadata": {},
   "outputs": [],
   "source": [
    "stata_data = load_stata_file(stata_data_filepath)\n",
    "stata_response_wave_eight, stata_response_wave_nine, stata_response_wave_ten = [stata_data[stata_data[\"wavename\"] == wavename] for wavename in [8.0, 9.0, 10.0]]"
   ]
  },
  {
   "cell_type": "code",
   "execution_count": 4,
   "metadata": {},
   "outputs": [
    {
     "name": "stdout",
     "output_type": "stream",
     "text": [
      "          pidp       hidp fihhmnlabgrs_dv     sex                 marstat  \\\n",
      "109302   22445  277059218     5996.049805  female                 Married   \n",
      "109303   29925  618630018          1666.0  female                Divorced   \n",
      "109304   76165  141460418          6732.0  female                 Married   \n",
      "109305  280165  754371618         12333.0  female                 Married   \n",
      "109306  333205  414800018     4782.819824  female  Single, nvr marr/civ p   \n",
      "\n",
      "              qfhigh                                           racel_dv  \\\n",
      "109302  inapplicable  british/english/scottish/welsh/northern irish ...   \n",
      "109303  inapplicable  british/english/scottish/welsh/northern irish ...   \n",
      "109304  inapplicable  british/english/scottish/welsh/northern irish ...   \n",
      "109305  inapplicable  british/english/scottish/welsh/northern irish ...   \n",
      "109306  inapplicable  british/english/scottish/welsh/northern irish ...   \n",
      "\n",
      "              lnprnt age_dv         gor_dv  ...       agegr10_dv  \\\n",
      "109302  inapplicable   33.0         London  ...  30-39 years old   \n",
      "109303  inapplicable   41.0         London  ...  40-49 years old   \n",
      "109304  inapplicable   35.0  West Midlands  ...  30-39 years old   \n",
      "109305  inapplicable   39.0     South East  ...  30-39 years old   \n",
      "109306  inapplicable   28.0  West Midlands  ...  20-29 years old   \n",
      "\n",
      "                                               jbnssec_dv wavename    vote3  \\\n",
      "109302               12.2 Semi-routine service operations     10.0  missing   \n",
      "109303     7.2 Intermediate sales and service occupations     10.0  missing   \n",
      "109304  4.1 Lower prof./higher techn.: 'traditional' e...     10.0  missing   \n",
      "109305         2 Higher managerial and admin. Occupations     10.0  missing   \n",
      "109306     7.2 Intermediate sales and service occupations     10.0  missing   \n",
      "\n",
      "             etariff                                         scenv_crlf  \\\n",
      "109302  No - neither  I do quite a few things that are environmental...   \n",
      "109303  No - neither  I do one or two things that are environmentall...   \n",
      "109304  No - neither  I don't really do anything that is environment...   \n",
      "109305  No - neither  I do one or two things that are environmentall...   \n",
      "109306  No - neither  I do one or two things that are environmentall...   \n",
      "\n",
      "                        scenv_bccc                  scenv_pmep  \\\n",
      "109302  Neither agree nor disagree              Strongly agree   \n",
      "109303               Tend to agree  Neither agree nor disagree   \n",
      "109304  Neither agree nor disagree               Tend to agree   \n",
      "109305               Tend to agree  Neither agree nor disagree   \n",
      "109306              Strongly agree              Strongly agree   \n",
      "\n",
      "                        scenv_meds                  scenv_tlat  \n",
      "109302  Neither agree nor disagree           Strongly disagree  \n",
      "109303  Neither agree nor disagree  Neither agree nor disagree  \n",
      "109304  Neither agree nor disagree            Tend to disagree  \n",
      "109305               Tend to agree            Tend to disagree  \n",
      "109306              Strongly agree           Strongly disagree  \n",
      "\n",
      "[5 rows x 21 columns]\n"
     ]
    }
   ],
   "source": [
    "print(stata_response_wave_ten.head())"
   ]
  },
  {
   "cell_type": "code",
   "execution_count": 5,
   "metadata": {},
   "outputs": [],
   "source": [
    "stata_response_wave_ten = preprocess_stata_data(stata_response_wave_ten)"
   ]
  },
  {
   "cell_type": "code",
   "execution_count": null,
   "metadata": {},
   "outputs": [],
   "source": []
  }
 ],
 "metadata": {
  "kernelspec": {
   "display_name": "Python 3",
   "language": "python",
   "name": "python3"
  },
  "language_info": {
   "codemirror_mode": {
    "name": "ipython",
    "version": 3
   },
   "file_extension": ".py",
   "mimetype": "text/x-python",
   "name": "python",
   "nbconvert_exporter": "python",
   "pygments_lexer": "ipython3",
   "version": "3.11.0"
  }
 },
 "nbformat": 4,
 "nbformat_minor": 2
}
