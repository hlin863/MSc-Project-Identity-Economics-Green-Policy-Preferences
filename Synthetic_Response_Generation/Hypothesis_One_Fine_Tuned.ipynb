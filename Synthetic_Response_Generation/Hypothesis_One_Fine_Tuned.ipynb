{
 "cells": [
  {
   "cell_type": "code",
   "execution_count": 1,
   "metadata": {},
   "outputs": [],
   "source": [
    "from stata_preprocessing import *\n",
    "from llm_simulation import *\n",
    "from load_environmental_distributions import load_environmental_distribution\n",
    "# from visualise_responses import *\n",
    "from fine_tuning_prompts import *\n",
    "import os\n",
    "import random\n",
    "from openai import OpenAI"
   ]
  },
  {
   "cell_type": "code",
   "execution_count": 2,
   "metadata": {},
   "outputs": [],
   "source": [
    "stata_data_filepath = \"C:\\\\Users\\\\haoch\\\\Documents\\\\COMP0190\\\\Data\\\\COMP0191-MSc-Project-Code\\\\Stata-Results\\\\UKHLS_fine_tuning_responses.dta\"\n",
    "base_environmental_views_filepath = \"C:\\\\Users\\\\haoch\\\\Documents\\\\COMP0190\\\\Data\\\\COMP0191-MSc-Project-Code\\\\Environmental-Views-Variables\\\\\""
   ]
  },
  {
   "cell_type": "code",
   "execution_count": 3,
   "metadata": {},
   "outputs": [],
   "source": [
    "stata_data = load_stata_file(stata_data_filepath)\n",
    "stata_response_wave_eight, stata_response_wave_nine, stata_response_wave_ten = [stata_data[stata_data[\"wavename\"] == wavename] for wavename in [8.0, 9.0, 10.0]]"
   ]
  },
  {
   "cell_type": "code",
   "execution_count": 4,
   "metadata": {},
   "outputs": [
    {
     "name": "stdout",
     "output_type": "stream",
     "text": [
      "          pidp       hidp fihhmnlabgrs_dv     sex                 marstat  \\\n",
      "109302   22445  277059218     5996.049805  female                 Married   \n",
      "109303   29925  618630018          1666.0  female                Divorced   \n",
      "109304   76165  141460418          6732.0  female                 Married   \n",
      "109305  280165  754371618         12333.0  female                 Married   \n",
      "109306  333205  414800018     4782.819824  female  Single, nvr marr/civ p   \n",
      "\n",
      "              qfhigh                                           racel_dv  \\\n",
      "109302  inapplicable  british/english/scottish/welsh/northern irish ...   \n",
      "109303  inapplicable  british/english/scottish/welsh/northern irish ...   \n",
      "109304  inapplicable  british/english/scottish/welsh/northern irish ...   \n",
      "109305  inapplicable  british/english/scottish/welsh/northern irish ...   \n",
      "109306  inapplicable  british/english/scottish/welsh/northern irish ...   \n",
      "\n",
      "              lnprnt age_dv         gor_dv  ...       agegr10_dv  \\\n",
      "109302  inapplicable   33.0         London  ...  30-39 years old   \n",
      "109303  inapplicable   41.0         London  ...  40-49 years old   \n",
      "109304  inapplicable   35.0  West Midlands  ...  30-39 years old   \n",
      "109305  inapplicable   39.0     South East  ...  30-39 years old   \n",
      "109306  inapplicable   28.0  West Midlands  ...  20-29 years old   \n",
      "\n",
      "                                               jbnssec_dv wavename    vote3  \\\n",
      "109302               12.2 Semi-routine service operations     10.0  missing   \n",
      "109303     7.2 Intermediate sales and service occupations     10.0  missing   \n",
      "109304  4.1 Lower prof./higher techn.: 'traditional' e...     10.0  missing   \n",
      "109305         2 Higher managerial and admin. Occupations     10.0  missing   \n",
      "109306     7.2 Intermediate sales and service occupations     10.0  missing   \n",
      "\n",
      "             etariff                                         scenv_crlf  \\\n",
      "109302  No - neither  I do quite a few things that are environmental...   \n",
      "109303  No - neither  I do one or two things that are environmentall...   \n",
      "109304  No - neither  I don't really do anything that is environment...   \n",
      "109305  No - neither  I do one or two things that are environmentall...   \n",
      "109306  No - neither  I do one or two things that are environmentall...   \n",
      "\n",
      "                        scenv_bccc                  scenv_pmep  \\\n",
      "109302  Neither agree nor disagree              Strongly agree   \n",
      "109303               Tend to agree  Neither agree nor disagree   \n",
      "109304  Neither agree nor disagree               Tend to agree   \n",
      "109305               Tend to agree  Neither agree nor disagree   \n",
      "109306              Strongly agree              Strongly agree   \n",
      "\n",
      "                        scenv_meds                  scenv_tlat  \n",
      "109302  Neither agree nor disagree           Strongly disagree  \n",
      "109303  Neither agree nor disagree  Neither agree nor disagree  \n",
      "109304  Neither agree nor disagree            Tend to disagree  \n",
      "109305               Tend to agree            Tend to disagree  \n",
      "109306              Strongly agree           Strongly disagree  \n",
      "\n",
      "[5 rows x 21 columns]\n"
     ]
    }
   ],
   "source": [
    "print(stata_response_wave_ten.head())"
   ]
  },
  {
   "cell_type": "code",
   "execution_count": 5,
   "metadata": {},
   "outputs": [],
   "source": [
    "stata_response_wave_ten = preprocess_stata_data(stata_response_wave_ten)"
   ]
  },
  {
   "cell_type": "code",
   "execution_count": 6,
   "metadata": {},
   "outputs": [
    {
     "name": "stdout",
     "output_type": "stream",
     "text": [
      "Tend to agree                 4463\n",
      "Neither agree nor disagree    2870\n",
      "Strongly agree                2510\n",
      "Tend to disagree               874\n",
      "Strongly disagree              261\n",
      "missing                          0\n",
      "inapplicable                     0\n",
      "proxy                            0\n",
      "refusal                          0\n",
      "don't know                       0\n",
      "Name: scenv_meds, dtype: int64\n"
     ]
    }
   ],
   "source": [
    "# check scenv_meds value counts\n",
    "print(stata_response_wave_ten[\"scenv_meds\"].value_counts())"
   ]
  },
  {
   "cell_type": "code",
   "execution_count": 7,
   "metadata": {},
   "outputs": [],
   "source": [
    "def write_balanced_responses_to_json(input_data, variable_name):\n",
    "\n",
    "    num_rows = input_data.shape[0]\n",
    "\n",
    "    print(num_rows)\n",
    "    \n",
    "    unique_indices = random.sample(range(num_rows), 10)\n",
    "\n",
    "    # generate 10 random responses for each response type\n",
    "\n",
    "    for random_index in unique_indices:\n",
    "        random_row = input_data.iloc[random_index]\n",
    "        profile_string, opinion_string = visualise_ukhls_profile_and_response(random_row, variable_name)\n",
    "\n",
    "        if variable_name == \"scenv_crlf\":\n",
    "\n",
    "            demo_json_filepath = \"C:\\\\Users\\\\haoch\\\\Documents\\\\COMP0190\\\\Data\\\\COMP0191-MSc-Project-Code\\\\Stata-Results\\\\stata_demo_question_responses_h1.json\"\n",
    "\n",
    "            # write the profile and opinion to a json file\n",
    "            with open(demo_json_filepath, \"r\") as file:\n",
    "                output_data = json.load(file)\n",
    "\n",
    "            output_data[\"profiles\"].append(profile_string)\n",
    "            output_data[\"opinions\"].append(opinion_string)\n",
    "            \n",
    "            with open(demo_json_filepath, \"w\") as file:\n",
    "                json.dump(output_data, file, indent=4)\n",
    "\n",
    "        if variable_name == \"scenv_bccc\":\n",
    "\n",
    "            question_one_json_filepath = \"C:\\\\Users\\\\haoch\\\\Documents\\\\COMP0190\\\\Data\\\\COMP0191-MSc-Project-Code\\\\Stata-Results\\\\stata_question_one_responses_h1.json\"\n",
    "\n",
    "            # write the profile and opinion to a json file\n",
    "            with open(question_one_json_filepath, \"r\") as file:\n",
    "                output_data = json.load(file)\n",
    "\n",
    "            output_data[\"profiles\"].append(profile_string)\n",
    "            output_data[\"opinions\"].append(opinion_string)\n",
    "            \n",
    "            with open(question_one_json_filepath, \"w\") as file:\n",
    "                json.dump(output_data, file, indent=4)\n",
    "\n",
    "        if variable_name == \"scenv_pmep\":\n",
    "\n",
    "            question_two_json_filepath = \"C:\\\\Users\\\\haoch\\\\Documents\\\\COMP0190\\\\Data\\\\COMP0191-MSc-Project-Code\\\\Stata-Results\\\\stata_question_two_responses_h1.json\"\n",
    "\n",
    "            # write the profile and opinion to a json file\n",
    "            with open(question_two_json_filepath, \"r\") as file:\n",
    "                output_data = json.load(file)\n",
    "\n",
    "            output_data[\"profiles\"].append(profile_string)\n",
    "            output_data[\"opinions\"].append(opinion_string)\n",
    "            \n",
    "            with open(question_two_json_filepath, \"w\") as file:\n",
    "                json.dump(output_data, file, indent=4)"
   ]
  },
  {
   "cell_type": "code",
   "execution_count": 8,
   "metadata": {},
   "outputs": [],
   "source": [
    "scenv_pmep_strongly_agree = stata_response_wave_ten[stata_response_wave_ten[\"scenv_pmep\"] == \"Strongly agree\"]\n",
    "scenv_pmep_disagree = stata_response_wave_ten[stata_response_wave_ten[\"scenv_pmep\"] == \"Tend to agree\"]\n",
    "scenv_pmep_neutral = stata_response_wave_ten[stata_response_wave_ten[\"scenv_pmep\"] == \"Neither agree nor disagree\"]\n",
    "scenv_pmep_tend_to_disagree = stata_response_wave_ten[stata_response_wave_ten[\"scenv_pmep\"] == \"Tend to disagree\"]\n",
    "scenv_pmep_strongly_disagree = stata_response_wave_ten[stata_response_wave_ten[\"scenv_pmep\"] == \"Strongly disagree\"]"
   ]
  },
  {
   "cell_type": "code",
   "execution_count": 9,
   "metadata": {},
   "outputs": [
    {
     "name": "stdout",
     "output_type": "stream",
     "text": [
      "908\n",
      "4439\n",
      "3170\n",
      "1992\n",
      "469\n"
     ]
    }
   ],
   "source": [
    "write_balanced_responses_to_json(scenv_pmep_strongly_agree, \"scenv_pmep\")\n",
    "write_balanced_responses_to_json(scenv_pmep_disagree, \"scenv_pmep\")\n",
    "write_balanced_responses_to_json(scenv_pmep_neutral, \"scenv_pmep\")\n",
    "write_balanced_responses_to_json(scenv_pmep_tend_to_disagree, \"scenv_pmep\")\n",
    "write_balanced_responses_to_json(scenv_pmep_strongly_disagree, \"scenv_pmep\")"
   ]
  },
  {
   "cell_type": "code",
   "execution_count": 10,
   "metadata": {},
   "outputs": [],
   "source": [
    "# convert \"Stata-Results/stata_demo_question_responses_wave_ten_demo.json\" to \"Stata-Results/stata_demo_question_responses_wave_ten_demo.jsonl\"\n",
    "def convert_json_to_jsonl(json_file_path, jsonl_file_path):\n",
    "    # format the responses in this structure \"{\"messages\": [{\"role\": \"system\", \"content\": \"Marv is a factual chatbot that is also sarcastic.\"}, {\"role\": \"user\", \"content\": \"What's the capital of France?\"}, {\"role\": \"assistant\", \"content\": \"Paris, as if everyone doesn't know that already.\"}]}\"\n",
    "    with open(json_file_path, \"r\") as file:\n",
    "        data = json.load(file)\n",
    "\n",
    "    # {\"role\": \"system\", \"content\": \"You are a happy assistant that puts a positive spin on everything.\"}\n",
    "    # {\"role\": \"user\", \"content\": \"I fell off my bike today.\"}\n",
    "\n",
    "    with open(jsonl_file_path, \"w\") as file:\n",
    "        for i in range(len(data[\"profiles\"])):\n",
    "            # Prepare system prompt\n",
    "            system_prompt = {\"role\": \"system\", \"content\": data[\"profiles\"][i]}\n",
    "            \n",
    "            # Prepare assistant response\n",
    "            assistant_response = {\"role\": \"assistant\", \"content\": data[\"opinions\"][i]}\n",
    "\n",
    "            # Create a message list and wrap it in a dictionary\n",
    "            message_dict = {\"messages\": [system_prompt, assistant_response]}\n",
    "            \n",
    "            # Dump the dictionary as a JSON formatted string to the JSONL file\n",
    "            json.dump(message_dict, file)\n",
    "            file.write(\"\\n\")"
   ]
  },
  {
   "cell_type": "code",
   "execution_count": 11,
   "metadata": {},
   "outputs": [],
   "source": [
    "question_two_json_path = \"C:\\\\Users\\\\haoch\\\\Documents\\\\COMP0190\\\\Data\\\\COMP0191-MSc-Project-Code\\\\Stata-Results\\\\stata_question_two_responses_h1.json\"\n",
    "question_two_jsonl_path = \"C:\\\\Users\\\\haoch\\\\Documents\\\\COMP0190\\\\Data\\\\COMP0191-MSc-Project-Code\\\\Stata-Results\\\\stata_question_two_responses_h1.jsonl\"\n",
    "convert_json_to_jsonl(question_two_json_path, question_two_jsonl_path)"
   ]
  },
  {
   "cell_type": "code",
   "execution_count": null,
   "metadata": {},
   "outputs": [],
   "source": [
    "openai_conditioned_model = OpenAI()\n",
    "from api_key import get_api_key\n",
    "api_key = get_api_key()"
   ]
  },
  {
   "cell_type": "code",
   "execution_count": null,
   "metadata": {},
   "outputs": [],
   "source": [
    "def fine_tune_model(path, api_key):\n",
    "    client = OpenAI(api_key = api_key)\n",
    "\n",
    "    response = client.files.create(\n",
    "        file=open(path, 'rb'),\n",
    "        purpose = 'fine-tune'\n",
    "    )\n",
    "\n",
    "    print(response)\n",
    "    response_id = response.id"
   ]
  },
  {
   "cell_type": "code",
   "execution_count": null,
   "metadata": {},
   "outputs": [],
   "source": [
    "fine_tune_model(question_two_jsonl_path, api_key)"
   ]
  },
  {
   "cell_type": "code",
   "execution_count": null,
   "metadata": {},
   "outputs": [],
   "source": [
    "model_id = \"file-jNmxB6hkRPMe9mShW0rKA9HE\""
   ]
  },
  {
   "cell_type": "code",
   "execution_count": null,
   "metadata": {},
   "outputs": [],
   "source": [
    "openai_conditioned_model.fine_tuning.jobs.create(training_file=model_id, model=\"gpt-3.5-turbo\")"
   ]
  },
  {
   "cell_type": "code",
   "execution_count": 12,
   "metadata": {},
   "outputs": [],
   "source": [
    "question_two_model_id = \"ft:gpt-3.5-turbo-0125:personal::9mmYVpj9\"\n",
    "question_number = 3\n",
    "question_two = \"To which extent strongly do you agree or disagree with the following statement: 'I would be prepared to pay more for environmentally friendly products.'?\"\n",
    "question_two_response_options = [\"Strongly agree\", \"Tend to agree\", \"Neither agree nor disagree\", \"Tend to disagree\", \"Strongly disagree\"]\n",
    "n_samples = 100\n",
    "json_filepath = \"C:\\\\Users\\\\haoch\\\\Documents\\\\COMP0190\\\\Data\\\\COMP0191-MSc-Project-Code\\\\Synthetic-Responses-JSON\\\\question_two_responses_finetuned.json\"\n",
    "distributions = [load_environmental_distribution(\"scenv_pmep\", 4), load_environmental_distribution(\"scenv_pmep\", 10)]\n",
    "wave_numbers = [4, 10]\n",
    "is_simulate = True"
   ]
  },
  {
   "cell_type": "code",
   "execution_count": null,
   "metadata": {},
   "outputs": [],
   "source": [
    "simulate_environmental_responses(question_two, question_number, question_two_response_options, n_samples, json_filepath, distributions, wave_numbers, 1, is_simulate, 0, \"\", True, question_two_model_id)"
   ]
  },
  {
   "cell_type": "code",
   "execution_count": 46,
   "metadata": {},
   "outputs": [],
   "source": [
    "def temp_visualise_comparison(d1_path, d2_path, n_samples):\n",
    "    with open(d1_path, \"r\") as file:\n",
    "        d1_data = json.load(file)\n",
    "\n",
    "    d1_data = d1_data[0][\"Synthetic Responses\"]\n",
    "\n",
    "    print(d1_data)\n",
    "\n",
    "    with open(d2_path, \"r\") as file:\n",
    "        d2_data = json.load(file)\n",
    "\n",
    "    # multiply by n_samples\n",
    "    d2_data = {k: round(v * n_samples) for k, v in d2_data.items()}\n",
    "\n",
    "    print(d2_data)\n",
    "\n",
    "    x = range(len(d1_data))\n",
    "    width = 0.35\n",
    "\n",
    "    fig, ax = plt.subplots()\n",
    "\n",
    "    rect1 = ax.bar(x, d1_data.values(), width, label=\"Fine-tuned Synthetic Responses\")\n",
    "    rect2 = ax.bar([i + width for i in x], d2_data.values(), width, label=\"UKHLS Responses\")\n",
    "\n",
    "    ax.set_ylabel(\"Number of Responses\")\n",
    "\n",
    "    ax.set_xticks([i + width / 2 for i in x])\n",
    "\n",
    "    ax.set_xticklabels(d1_data.keys(), rotation=90)\n",
    "\n",
    "    ax.legend()\n",
    "\n",
    "    import textwrap as tw\n",
    "\n",
    "    ax.set_xticklabels([tw.fill(label, 10) for label in d1_data.keys()])\n",
    "\n",
    "    plt.savefig(\"C:\\\\Users\\\\haoch\\\\Documents\\\\COMP0190\\\\Data\\\\COMP0191-MSc-Project-Code\\\\temp_comparison.png\", bbox_inches='tight')\n",
    "\n",
    "    plt.show()"
   ]
  },
  {
   "cell_type": "code",
   "execution_count": 48,
   "metadata": {},
   "outputs": [
    {
     "name": "stdout",
     "output_type": "stream",
     "text": [
      "{'strongly agree': 38, 'tend to agree': 45, 'strongly disagree': 9, 'tend to disagree': 6, 'neither agree nor disagree': 2}\n",
      "{'Strongly agree': 7, 'Tend to agree': 39, 'Neither agree nor disagree': 31, 'Tend to disagree': 19, 'Strongly disagree': 5}\n"
     ]
    },
    {
     "data": {
      "image/png": "[encoded data removed]",
      "text/plain": [
       "<Figure size 640x480 with 1 Axes>"
      ]
     },
     "metadata": {},
     "output_type": "display_data"
    }
   ],
   "source": [
    "# manually visualise comparison between these json files\n",
    "json_filepath = \"C:\\\\Users\\\\haoch\\\\Documents\\\\COMP0190\\\\Data\\\\COMP0191-MSc-Project-Code\\\\Synthetic-Responses-JSON\\\\question_two_responses_finetuned.json\"\n",
    "d1_path = \"C:\\\\Users\\\\haoch\\\\Documents\\\\COMP0190\\\\Data\\\\COMP0191-MSc-Project-Code\\\\Environmental-Views-Variables\\\\scenv_pmep\\\\Scenv Pmep Probability Distribution Wave 4.json\"\n",
    "d2_path = \"C:\\\\Users\\\\haoch\\\\Documents\\\\COMP0190\\\\Data\\\\COMP0191-MSc-Project-Code\\\\Environmental-Views-Variables\\\\scenv_pmep\\\\Scenv Pmep Probability Distribution Wave 10.json\"\n",
    "\n",
    "# visualise bar chart comparing json filepath with d1_path\n",
    "temp_visualise_comparison(json_filepath, d2_path, n_samples)"
   ]
  }
 ],
 "metadata": {
  "kernelspec": {
   "display_name": "Python 3",
   "language": "python",
   "name": "python3"
  },
  "language_info": {
   "codemirror_mode": {
    "name": "ipython",
    "version": 3
   },
   "file_extension": ".py",
   "mimetype": "text/x-python",
   "name": "python",
   "nbconvert_exporter": "python",
   "pygments_lexer": "ipython3",
   "version": "3.11.0"
  }
 },
 "nbformat": 4,
 "nbformat_minor": 2
}
