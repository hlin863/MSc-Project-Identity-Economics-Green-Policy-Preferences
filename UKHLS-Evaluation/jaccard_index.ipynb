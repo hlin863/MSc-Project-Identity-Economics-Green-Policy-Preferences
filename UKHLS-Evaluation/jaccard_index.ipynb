{
 "cells": [
  {
   "cell_type": "code",
   "execution_count": 8,
   "metadata": {},
   "outputs": [],
   "source": [
    "import json\n",
    "from collections import Counter"
   ]
  },
  {
   "cell_type": "code",
   "execution_count": 9,
   "metadata": {},
   "outputs": [],
   "source": [
    "base_synthetic_responses_path = 'C:\\\\Users\\\\haoch\\\\Documents\\\\COMP0190\\\\Data\\\\COMP0191-MSc-Project-Code\\\\Synthetic-Responses-JSON'\n",
    "base_data_path = 'C:\\\\Users\\\\haoch\\\\Documents\\\\COMP0190\\\\Data\\\\COMP0191-MSc-Project-Code\\\\Environmental-Views-Variables'"
   ]
  },
  {
   "cell_type": "code",
   "execution_count": 10,
   "metadata": {},
   "outputs": [],
   "source": [
    "question_7_json_file = \"\\\\q7_synthetic_responses.json\"\n",
    "question_7_data_file = \"\\\\grimyn\\\\grimyn Probability Distribution Wave 3.json\""
   ]
  },
  {
   "cell_type": "code",
   "execution_count": 11,
   "metadata": {},
   "outputs": [],
   "source": [
    "question_8_json_file = \"\\\\q8_synthetic_responses.json\"\n",
    "question_8_data_file = \"\\\\orga3\\\\orga3 Probability Distribution Wave 3.json\""
   ]
  },
  {
   "cell_type": "code",
   "execution_count": 12,
   "metadata": {},
   "outputs": [],
   "source": [
    "def calculate_jaccard_index(base_data_path, data_file, base_synthetic_responses_path, json_file):\n",
    "    \"\"\"\n",
    "    Calculates the Jaccard Index between the base data and synthetic responses.\n",
    "    Parameters:\n",
    "    - base_data_path (str): The path to the base data file.\n",
    "    - data_file (str): The name of the base data file.\n",
    "    - base_synthetic_responses_path (str): The path to the synthetic responses file.\n",
    "    - json_file (str): The name of the synthetic responses file.\n",
    "    Returns:\n",
    "    - jaccard_index (float): The Jaccard Index between the base data and synthetic responses.\n",
    "    \"\"\"\n",
    "    with open(base_data_path + data_file) as f:\n",
    "        data = json.load(f)\n",
    "    with open(base_synthetic_responses_path + json_file) as f:\n",
    "        responses = json.load(f)\n",
    "\n",
    "    # convert data keys to lower case\n",
    "    data = {k.lower(): v for k, v in data.items()}\n",
    "\n",
    "    # Aggregate synthetic responses\n",
    "    synthetic_counts = Counter()\n",
    "    for response in responses:\n",
    "        synthetic_counts.update(responses[0][\"Synthetic Responses\"])\n",
    "\n",
    "    # Convert counts to proportions\n",
    "    total_responses = sum(synthetic_counts.values())\n",
    "\n",
    "    data = {k.lower(): v * total_responses for k, v in data.items()}\n",
    "\n",
    "    synthetic_proportions = {k.lower(): v for k, v in synthetic_counts.items()} \n",
    "\n",
    "    print(data)\n",
    "    print(synthetic_proportions)\n",
    "\n",
    "    # if the keys are \"neither agree nor disagree\", simplify the key to neither\n",
    "    if \"neither agree nor disagree\" in synthetic_proportions:\n",
    "        synthetic_proportions[\"neither\"] = synthetic_proportions[\"neither agree nor disagree\"]\n",
    "        del synthetic_proportions[\"neither agree nor disagree\"]\n",
    "\n",
    "    if \"neither agree nor disagree\" in data:\n",
    "        data[\"neither\"] = data[\"neither agree nor disagree\"]\n",
    "        del data[\"neither agree nor disagree\"]\n",
    "\n",
    "    # Calculate Jaccard Index\n",
    "    intersection = 0\n",
    "\n",
    "    for key in data.keys():\n",
    "\n",
    "        if key in synthetic_proportions:\n",
    "            intersection += min(data[key], synthetic_proportions[key])\n",
    "\n",
    "    union = sum(data.values()) + sum(synthetic_proportions.values()) - intersection\n",
    "\n",
    "    jaccard_index = intersection / union\n",
    "\n",
    "    return jaccard_index"
   ]
  },
  {
   "cell_type": "code",
   "execution_count": 13,
   "metadata": {},
   "outputs": [
    {
     "name": "stdout",
     "output_type": "stream",
     "text": [
      "{'yes': 11.26165185345762, 'no': 88.73834814654238}\n",
      "{'yes': 69, 'no': 31}\n"
     ]
    },
    {
     "data": {
      "text/plain": [
       "0.2679224953858121"
      ]
     },
     "execution_count": 13,
     "metadata": {},
     "output_type": "execute_result"
    }
   ],
   "source": [
    "calculate_jaccard_index(base_data_path, question_7_data_file, base_synthetic_responses_path, question_7_json_file)"
   ]
  },
  {
   "cell_type": "code",
   "execution_count": 14,
   "metadata": {},
   "outputs": [
    {
     "name": "stdout",
     "output_type": "stream",
     "text": [
      "{'mentioned': 1.747693399574166, 'not mentioned': 98.25230660042583}\n",
      "{'not mentioned': 48, 'mentioned': 52}\n"
     ]
    },
    {
     "data": {
      "text/plain": [
       "0.3310943740242932"
      ]
     },
     "execution_count": 14,
     "metadata": {},
     "output_type": "execute_result"
    }
   ],
   "source": [
    "calculate_jaccard_index(base_data_path, question_8_data_file, base_synthetic_responses_path, question_8_json_file)"
   ]
  }
 ],
 "metadata": {
  "kernelspec": {
   "display_name": "Python 3",
   "language": "python",
   "name": "python3"
  },
  "language_info": {
   "codemirror_mode": {
    "name": "ipython",
    "version": 3
   },
   "file_extension": ".py",
   "mimetype": "text/x-python",
   "name": "python",
   "nbconvert_exporter": "python",
   "pygments_lexer": "ipython3",
   "version": "3.11.0"
  }
 },
 "nbformat": 4,
 "nbformat_minor": 2
}
