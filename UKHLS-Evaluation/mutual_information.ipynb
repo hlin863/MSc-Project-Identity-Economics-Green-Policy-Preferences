{
 "cells": [
  {
   "cell_type": "code",
   "execution_count": 1,
   "metadata": {},
   "outputs": [],
   "source": [
    "import json\n",
    "from collections import Counter\n",
    "from sklearn.metrics import mutual_info_score\n",
    "# ignore warnings\n",
    "import warnings\n",
    "warnings.filterwarnings(\"ignore\")"
   ]
  },
  {
   "cell_type": "code",
   "execution_count": 2,
   "metadata": {},
   "outputs": [],
   "source": [
    "base_synthetic_responses_path = 'C:\\\\Users\\\\haoch\\\\Documents\\\\COMP0190\\\\Data\\\\COMP0191-MSc-Project-Code\\\\Synthetic-Responses-JSON'\n",
    "base_data_path = 'C:\\\\Users\\\\haoch\\\\Documents\\\\COMP0190\\\\Data\\\\COMP0191-MSc-Project-Code\\\\Environmental-Views-Variables'"
   ]
  },
  {
   "cell_type": "code",
   "execution_count": 3,
   "metadata": {},
   "outputs": [],
   "source": [
    "question_1_json_file = \"\\\\synthetic_responses_demo.json\"\n",
    "question_1_data_file = \"\\\\scenv_crlf\\\\Environmental Friendly Behaviour Probability Distribution Wave 10.json\""
   ]
  },
  {
   "cell_type": "code",
   "execution_count": 4,
   "metadata": {},
   "outputs": [],
   "source": [
    "question_2_json_file = \"\\\\q2_synthetic_responses.json\"\n",
    "question_2_data_file = \"\\\\scenv_bccc\\\\Scenv Bccc Probability Distribution Wave 10.json\""
   ]
  },
  {
   "cell_type": "code",
   "execution_count": 5,
   "metadata": {},
   "outputs": [],
   "source": [
    "question_3_json_file = \"\\\\q3_synthetic_responses.json\"\n",
    "question_3_data_file = \"\\\\scenv_pmep\\\\Scenv Pmep Probability Distribution Wave 10.json\""
   ]
  },
  {
   "cell_type": "code",
   "execution_count": 6,
   "metadata": {},
   "outputs": [],
   "source": [
    "question_4_json_file = \"\\\\q4_synthetic_responses.json\"\n",
    "question_4_data_file = \"\\\\OpenVB\\\\Open VB Probability Distribution Wave 18.json\""
   ]
  },
  {
   "cell_type": "code",
   "execution_count": 7,
   "metadata": {},
   "outputs": [],
   "source": [
    "question_5_json_file = \"\\\\q5_synthetic_responses.json\"\n",
    "question_5_data_file = \"\\\\scenv_meds\\\\Scenv Meds Probability Distribution Wave 10.json\""
   ]
  },
  {
   "cell_type": "code",
   "execution_count": 8,
   "metadata": {},
   "outputs": [],
   "source": [
    "question_6_json_file = \"\\\\q6_synthetic_responses.json\"\n",
    "question_6_data_file = \"\\\\etariff\\\\etariff Probability Distribution Wave 10.json\""
   ]
  },
  {
   "cell_type": "code",
   "execution_count": 9,
   "metadata": {},
   "outputs": [],
   "source": [
    "question_7_json_file = \"\\\\q7_synthetic_responses.json\"\n",
    "question_7_data_file = \"\\\\grimyn\\\\grimyn Probability Distribution Wave 3.json\""
   ]
  },
  {
   "cell_type": "code",
   "execution_count": 10,
   "metadata": {},
   "outputs": [],
   "source": [
    "question_8_json_file = \"\\\\q8_synthetic_responses.json\"\n",
    "question_8_data_file = \"\\\\orga3\\\\orga3 Probability Distribution Wave 3.json\""
   ]
  },
  {
   "cell_type": "code",
   "execution_count": 11,
   "metadata": {},
   "outputs": [],
   "source": [
    "question_9_json_file = \"\\\\q9_synthetic_responses.json\"\n",
    "question_9_data_file = \"\\\\scenv_tlat\\\\Scenv Tlat Probability Distribution Wave 10.json\""
   ]
  },
  {
   "cell_type": "code",
   "execution_count": 12,
   "metadata": {},
   "outputs": [],
   "source": [
    "questions_json_files = [question_1_json_file, question_2_json_file, question_3_json_file, question_4_json_file, question_5_json_file, question_6_json_file, question_7_json_file, question_8_json_file, question_9_json_file]\n",
    "questions_data_files = [question_1_data_file, question_2_data_file, question_3_data_file, question_4_data_file, question_5_data_file, question_6_data_file, question_7_data_file, question_8_data_file, question_9_data_file]"
   ]
  },
  {
   "cell_type": "markdown",
   "metadata": {},
   "source": [
    "## Mutual Information"
   ]
  },
  {
   "cell_type": "code",
   "execution_count": 13,
   "metadata": {},
   "outputs": [],
   "source": [
    "def calculate_mutual_information_value(base_data_path, data_file, base_synthetic_responses_path, json_file):\n",
    "    with open(base_data_path + data_file) as f:\n",
    "        data = json.load(f)\n",
    "    with open(base_synthetic_responses_path + json_file) as f:\n",
    "        responses = json.load(f)\n",
    "\n",
    "    # initialise the dictionary keys as the categories in the data\n",
    "    categories = list(data.keys())\n",
    "\n",
    "    # convert data keys to lower case\n",
    "    data = {k.lower(): v for k, v in data.items()}\n",
    "\n",
    "    # convert every item in categories to lower case\n",
    "    categories = [category.lower() for category in categories]\n",
    "\n",
    "    # Aggregate synthetic responses\n",
    "    synthetic_counts = Counter()\n",
    "    for response in responses:\n",
    "        synthetic_counts.update(responses[0][\"Synthetic Responses\"])\n",
    "\n",
    "    # Convert counts to proportions\n",
    "    total_responses = sum(synthetic_counts.values())\n",
    "    synthetic_proportions = {k.lower(): v / total_responses for k, v in synthetic_counts.items()} \n",
    "\n",
    "    # Ensure all keys in UKHLS data are present in synthetic data\n",
    "    for key in data.keys():\n",
    "        if key not in synthetic_proportions:\n",
    "            synthetic_proportions[key] = 0.0\n",
    "\n",
    "    # print data and synthetic proportions\n",
    "    print(\"Data: \", data)\n",
    "    print(\"Synthetic Proportions: \", synthetic_proportions)\n",
    "\n",
    "    data_list = [data[key] for key in categories]\n",
    "    synthetic_proportions_list = [synthetic_proportions[key] for key in categories]\n",
    "\n",
    "    print(\"Data List: \", data_list)\n",
    "    print(\"Synthetic Proportions List: \", synthetic_proportions_list)\n",
    "\n",
    "    mutual_info = mutual_info_score(data_list, synthetic_proportions_list)\n",
    "\n",
    "    print(\"Mutual Information: \", mutual_info)\n",
    "\n",
    "    return mutual_info"
   ]
  },
  {
   "cell_type": "code",
   "execution_count": 14,
   "metadata": {},
   "outputs": [
    {
     "name": "stdout",
     "output_type": "stream",
     "text": [
      "Question  1\n",
      "Data:  {\"don't do anything environmentally friendly\": 0.05744607582255893, 'do one or two things environmentally friendly': 0.3565726450239489, 'do some things environmentally friendly': 0.40453307453902265, 'do many things environmentally friendly': 0.1623203831825439, 'do everything environmentally friendly': 0.019127821431925617}\n",
      "Synthetic Proportions:  {'do some things environmentally friendly': 0.5, 'do many things environmentally friendly': 0.4, 'do one or two things environmentally friendly': 0.1, \"don't do anything environmentally friendly\": 0.0, 'do everything environmentally friendly': 0.0}\n",
      "Data List:  [0.05744607582255893, 0.3565726450239489, 0.40453307453902265, 0.1623203831825439, 0.019127821431925617]\n",
      "Synthetic Proportions List:  [0.0, 0.1, 0.5, 0.4, 0.0]\n",
      "Mutual Information:  1.3321790402101223\n",
      "\n",
      "\n",
      "Question  2\n",
      "Data:  {'strongly agree': 0.0813, 'tend to agree': 0.3675, 'neither': 0.3391, 'tend to disagree': 0.1186, 'strongly disagree': 0.0251}\n",
      "Synthetic Proportions:  {'tend to disagree': 0.1, 'tend to agree': 0.8, 'strongly agree': 0.1, 'neither': 0.0, 'strongly disagree': 0.0}\n",
      "Data List:  [0.0813, 0.3675, 0.3391, 0.1186, 0.0251]\n",
      "Synthetic Proportions List:  [0.1, 0.8, 0.0, 0.1, 0.0]\n",
      "Mutual Information:  1.0549201679861442\n",
      "\n",
      "\n",
      "Question  3\n",
      "Data:  {'strongly agree': 0.06801, 'tend to agree': 0.38521, 'neither agree nor disagree': 0.31061, 'tend to disagree': 0.19079, 'strongly disagree': 0.04532}\n",
      "Synthetic Proportions:  {'strongly agree': 0.8, 'tend to agree': 0.2, 'neither agree nor disagree': 0.0, 'tend to disagree': 0.0, 'strongly disagree': 0.0}\n",
      "Data List:  [0.06801, 0.38521, 0.31061, 0.19079, 0.04532]\n",
      "Synthetic Proportions List:  [0.8, 0.2, 0.0, 0.0, 0.0]\n",
      "Mutual Information:  0.9502705392332345\n",
      "\n",
      "\n",
      "Question  4\n",
      "Data:  {'strongly agree': 0.05, 'agree': 0.45, 'disagree': 0.28, 'strongly disagree': 0.02, 'already changed': 0.2}\n",
      "Synthetic Proportions:  {'strongly agree': 0.0, 'agree': 0.4, 'disagree': 0.2, 'strongly disagree': 0.0, 'already changed': 0.4}\n",
      "Data List:  [0.05, 0.45, 0.28, 0.02, 0.2]\n",
      "Synthetic Proportions List:  [0.0, 0.4, 0.2, 0.0, 0.4]\n",
      "Mutual Information:  1.0549201679861442\n",
      "\n",
      "\n",
      "Question  5\n",
      "Data:  {'strongly agree': 0.18344749929623722, 'tend to agree': 0.4056801476337931, 'neither': 0.29983422476619437, 'tend to disagree': 0.08720402865096494, 'strongly disagree': 0.02383409965281036}\n",
      "Synthetic Proportions:  {'strongly agree': 0.2, 'tend to agree': 0.2, 'neither': 0.4, 'tend to disagree': 0.0, 'strongly disagree': 0.2}\n",
      "Data List:  [0.18344749929623722, 0.4056801476337931, 0.29983422476619437, 0.08720402865096494, 0.02383409965281036]\n",
      "Synthetic Proportions List:  [0.2, 0.2, 0.4, 0.0, 0.2]\n",
      "Mutual Information:  0.9502705392332345\n",
      "\n",
      "\n",
      "Question  6\n",
      "Data:  {'yes - already buy': 0.08778179794043975, 'yes - seriously considering': 0.07854160868355135, 'no': 0.8134149735596994, 'considered and rejected': 0.02026161981630949}\n",
      "Synthetic Proportions:  {'yes - already buy': 0.1, 'yes - seriously considering': 0.4, 'no': 0.1, 'considered and rejected': 0.4}\n",
      "Data List:  [0.08778179794043975, 0.07854160868355135, 0.8134149735596994, 0.02026161981630949]\n",
      "Synthetic Proportions List:  [0.1, 0.4, 0.1, 0.4]\n",
      "Mutual Information:  0.6931471805599452\n",
      "\n",
      "\n",
      "Question  7\n",
      "Data:  {'yes': 0.1126165185345762, 'no': 0.8873834814654238}\n",
      "Synthetic Proportions:  {'yes': 0.9, 'no': 0.1}\n",
      "Data List:  [0.1126165185345762, 0.8873834814654238]\n",
      "Synthetic Proportions List:  [0.9, 0.1]\n",
      "Mutual Information:  0.6931471805599453\n",
      "\n",
      "\n",
      "Question  8\n",
      "Data:  {'mentioned': 0.01747693399574166, 'not mentioned': 0.9825230660042583}\n",
      "Synthetic Proportions:  {'mentioned': 0.5, 'not mentioned': 0.5}\n",
      "Data List:  [0.01747693399574166, 0.9825230660042583]\n",
      "Synthetic Proportions List:  [0.5, 0.5]\n",
      "Mutual Information:  0.0\n",
      "\n",
      "\n",
      "Question  9\n",
      "Data:  {'strongly agree': 0.023180879684664958, 'tend to agree': 0.1169993117687543, 'neither': 0.32597134455358817, 'tend to disagree': 0.3920102609022086, 'strongly disagree': 0.14183820309078396}\n",
      "Synthetic Proportions:  {'strongly agree': 0.0, 'tend to agree': 0.3, 'neither': 0.4, 'tend to disagree': 0.0, 'strongly disagree': 0.3}\n",
      "Data List:  [0.023180879684664958, 0.1169993117687543, 0.32597134455358817, 0.3920102609022086, 0.14183820309078396]\n",
      "Synthetic Proportions List:  [0.0, 0.3, 0.4, 0.0, 0.3]\n",
      "Mutual Information:  1.0549201679861442\n",
      "\n",
      "\n"
     ]
    }
   ],
   "source": [
    "mutual_info_scores = []\n",
    "for i in range(len(questions_json_files)):\n",
    "    print(\"Question \", i+1)\n",
    "    temp_score = calculate_mutual_information_value(base_data_path, questions_data_files[i], base_synthetic_responses_path, questions_json_files[i])\n",
    "    print(\"\\n\")\n",
    "    mutual_info_scores.append(temp_score)"
   ]
  },
  {
   "cell_type": "code",
   "execution_count": 15,
   "metadata": {},
   "outputs": [],
   "source": [
    "# save the temp scores and their question number in a text file in the same directory\n",
    "with open(\"mutual_info_scores.txt\", \"w\") as f:\n",
    "    for i in range(len(mutual_info_scores)):\n",
    "        # round each score to 4 decimal places\n",
    "        f.write(\"Question \" + str(i+1) + \": \" + str(round(mutual_info_scores[i], 4)) + \"\\n\")"
   ]
  },
  {
   "cell_type": "markdown",
   "metadata": {},
   "source": [
    "## Study 2: Hypothesis 1 - Difference in Attitudes to Environmental Issues by whether an individual has children. "
   ]
  },
  {
   "cell_type": "code",
   "execution_count": 16,
   "metadata": {},
   "outputs": [],
   "source": [
    "q1_with_children_json_paths = [\"\\\\Hypothesis-1\\\\synthetic_responses_question_1_wave_1_with_children.json\", \"\\\\Hypothesis-1\\\\synthetic_responses_question_1_wave_5_with_children.json\", \"\\\\Hypothesis-1\\\\synthetic_responses_question_1_wave_10_with_children.json\"]\n",
    "q1_without_children_json_paths = [\"\\\\Hypothesis-1\\\\synthetic_responses_question_1_wave_1_without_children.json\", \"\\\\Hypothesis-1\\\\synthetic_responses_question_1_wave_5_without_children.json\", \"\\\\Hypothesis-1\\\\synthetic_responses_question_1_wave_10_without_children.json\"]\n",
    "wave_numbers = [1, 5, 10]\n",
    "\n",
    "q1_with_children_json_filepath = \"\\\\Hypothesis-1\\\\synthetic_responses_question_1_wave_10_with_children.json\"\n",
    "q1_without_children_json_filepath = \"\\\\Hypothesis-1\\\\synthetic_responses_question_1_wave_10_without_children.json\"\n",
    "question_one_responses = [\"Don't do Anything Environmentally Friendly\", \"Do One or Two Things Environmentally Friendly\", \"Do Some Things Environmentally Friendly\", \"Do Many Things Environmentally Friendly\", \"Do Everything Environmentally Friendly\"]"
   ]
  },
  {
   "cell_type": "code",
   "execution_count": 17,
   "metadata": {},
   "outputs": [],
   "source": [
    "def calculate_mutual_information_value_h1(base_data_path, d1_file, d2_file, pot_responses):\n",
    "    with open(base_data_path + d1_file) as f:\n",
    "        d1 = json.load(f)\n",
    "    with open(base_synthetic_responses_path + d2_file) as f:\n",
    "        d2 = json.load(f)\n",
    "\n",
    "    # convert data keys to lower case\n",
    "    d1 = {k.lower(): v for k, v in d1.items()}\n",
    "\n",
    "    d2 = {k.lower(): v for k, v in d2.items()}\n",
    "\n",
    "    pot_responses = [response.lower() for response in pot_responses]\n",
    "\n",
    "    for response in pot_responses:\n",
    "        if response not in d1.keys():\n",
    "            d1[response] = 0\n",
    "\n",
    "        if response not in d2.keys():\n",
    "            d2[response] = 0\n",
    "\n",
    "    d1_list = [d1[key] for key in pot_responses]\n",
    "    d2_list = [d2[key] for key in pot_responses]\n",
    "\n",
    "    mutual_info = mutual_info_score(d1_list, d2_list)\n",
    "\n",
    "    return mutual_info"
   ]
  },
  {
   "cell_type": "code",
   "execution_count": 18,
   "metadata": {},
   "outputs": [
    {
     "name": "stdout",
     "output_type": "stream",
     "text": [
      "Question 1 Wave  1\n",
      "Mutual Information Score:  1.3321790402101223\n",
      "\n",
      "\n",
      "Question 1 Wave  5\n",
      "Mutual Information Score:  1.6094379124341005\n",
      "\n",
      "\n",
      "Question 1 Wave  10\n",
      "Mutual Information Score:  1.6094379124341005\n",
      "\n",
      "\n"
     ]
    }
   ],
   "source": [
    "for i in range(len(q1_with_children_json_paths)):\n",
    "    print(\"Question 1 Wave \", wave_numbers[i])\n",
    "    temp_score = calculate_mutual_information_value_h1(base_data_path, question_1_data_file, q1_with_children_json_paths[i], question_one_responses)\n",
    "    print(\"Mutual Information Score: \", temp_score)\n",
    "    print(\"\\n\")"
   ]
  },
  {
   "cell_type": "code",
   "execution_count": 19,
   "metadata": {},
   "outputs": [],
   "source": [
    "q1_wave_10_mi = calculate_mutual_information_value_h1(base_synthetic_responses_path, q1_with_children_json_filepath, q1_without_children_json_filepath, question_one_responses)"
   ]
  },
  {
   "cell_type": "code",
   "execution_count": 20,
   "metadata": {},
   "outputs": [
    {
     "name": "stdout",
     "output_type": "stream",
     "text": [
      "Question 1 Wave 10 Mutual Information:  1.3321790402101223\n"
     ]
    }
   ],
   "source": [
    "print(\"Question 1 Wave 10 Mutual Information: \", q1_wave_10_mi)"
   ]
  }
 ],
 "metadata": {
  "kernelspec": {
   "display_name": "Python 3",
   "language": "python",
   "name": "python3"
  },
  "language_info": {
   "codemirror_mode": {
    "name": "ipython",
    "version": 3
   },
   "file_extension": ".py",
   "mimetype": "text/x-python",
   "name": "python",
   "nbconvert_exporter": "python",
   "pygments_lexer": "ipython3",
   "version": "3.11.0"
  }
 },
 "nbformat": 4,
 "nbformat_minor": 2
}
