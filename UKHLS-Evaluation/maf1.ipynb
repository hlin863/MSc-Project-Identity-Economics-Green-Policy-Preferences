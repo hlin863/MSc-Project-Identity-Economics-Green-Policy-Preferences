{
 "cells": [
  {
   "cell_type": "code",
   "execution_count": 1,
   "metadata": {},
   "outputs": [],
   "source": [
    "import json\n",
    "from collections import Counter"
   ]
  },
  {
   "cell_type": "code",
   "execution_count": 2,
   "metadata": {},
   "outputs": [],
   "source": [
    "base_synthetic_responses_path = 'C:\\\\Users\\\\haoch\\\\Documents\\\\COMP0190\\\\Data\\\\COMP0191-MSc-Project-Code\\\\Synthetic-Responses-JSON'\n",
    "base_data_path = 'C:\\\\Users\\\\haoch\\\\Documents\\\\COMP0190\\\\Data\\\\COMP0191-MSc-Project-Code\\\\Environmental-Views-Variables'"
   ]
  },
  {
   "cell_type": "code",
   "execution_count": 3,
   "metadata": {},
   "outputs": [],
   "source": [
    "question_1_json_file = \"\\\\synthetic_responses_demo.json\"\n",
    "question_1_data_file = \"\\\\scenv_crlf\\\\Environmental Friendly Behaviour Probability Distribution Wave 10.json\""
   ]
  },
  {
   "cell_type": "code",
   "execution_count": 4,
   "metadata": {},
   "outputs": [],
   "source": [
    "question_2_json_file = \"\\\\q2_synthetic_responses.json\"\n",
    "question_2_data_file = \"\\\\scenv_bccc\\\\Scenv Bccc Probability Distribution Wave 10.json\""
   ]
  },
  {
   "cell_type": "code",
   "execution_count": 5,
   "metadata": {},
   "outputs": [],
   "source": [
    "question_3_json_file = \"\\\\q3_synthetic_responses.json\"\n",
    "question_3_data_file = \"\\\\scenv_pmep\\\\Scenv Pmep Probability Distribution Wave 10.json\""
   ]
  },
  {
   "cell_type": "code",
   "execution_count": 6,
   "metadata": {},
   "outputs": [],
   "source": [
    "question_4_json_file = \"\\\\q4_synthetic_responses.json\"\n",
    "question_4_data_file = \"\\\\OpenVB\\\\Open VB Probability Distribution Wave 18.json\""
   ]
  },
  {
   "cell_type": "code",
   "execution_count": 7,
   "metadata": {},
   "outputs": [],
   "source": [
    "question_5_json_file = \"\\\\q5_synthetic_responses.json\"\n",
    "question_5_data_file = \"\\\\scenv_meds\\\\Scenv Meds Probability Distribution Wave 10.json\""
   ]
  },
  {
   "cell_type": "code",
   "execution_count": 8,
   "metadata": {},
   "outputs": [],
   "source": [
    "question_6_json_file = \"\\\\q6_synthetic_responses.json\"\n",
    "question_6_data_file = \"\\\\etariff\\\\etariff Probability Distribution Wave 10.json\""
   ]
  },
  {
   "cell_type": "code",
   "execution_count": 9,
   "metadata": {},
   "outputs": [],
   "source": [
    "question_7_json_file = \"\\\\q7_synthetic_responses.json\"\n",
    "question_7_data_file = \"\\\\grimyn\\\\grimyn Probability Distribution Wave 3.json\""
   ]
  },
  {
   "cell_type": "code",
   "execution_count": 10,
   "metadata": {},
   "outputs": [],
   "source": [
    "question_8_json_file = \"\\\\q8_synthetic_responses.json\"\n",
    "question_8_data_file = \"\\\\orga3\\\\orga3 Probability Distribution Wave 3.json\""
   ]
  },
  {
   "cell_type": "code",
   "execution_count": 11,
   "metadata": {},
   "outputs": [],
   "source": [
    "question_9_json_file = \"\\\\q9_synthetic_responses.json\"\n",
    "question_9_data_file = \"\\\\scenv_tlat\\\\Scenv Tlat Probability Distribution Wave 10.json\""
   ]
  },
  {
   "cell_type": "code",
   "execution_count": 12,
   "metadata": {},
   "outputs": [],
   "source": [
    "questions_json_files = [question_1_json_file, question_2_json_file, question_3_json_file, question_4_json_file, question_5_json_file, question_6_json_file, question_7_json_file, question_8_json_file, question_9_json_file]\n",
    "questions_data_files = [question_1_data_file, question_2_data_file, question_3_data_file, question_4_data_file, question_5_data_file, question_6_data_file, question_7_data_file, question_8_data_file, question_9_data_file]"
   ]
  },
  {
   "cell_type": "markdown",
   "metadata": {},
   "source": [
    "## MAF1 and Absolute Difference Calculation"
   ]
  },
  {
   "cell_type": "code",
   "execution_count": 13,
   "metadata": {},
   "outputs": [],
   "source": [
    "def calculate_maf1_and_absolute_difference(base_data_path, question_2_data_file, base_synthetic_responses_path, question_2_json_file):\n",
    "    # Load data\n",
    "    with open(base_data_path + question_2_data_file) as f:\n",
    "        data = json.load(f)\n",
    "\n",
    "    with open(base_synthetic_responses_path + question_2_json_file) as f:\n",
    "        responses = json.load(f)\n",
    "\n",
    "    # Aggregate synthetic responses\n",
    "    synthetic_counts = Counter()\n",
    "    for response in responses:\n",
    "        synthetic_counts.update(response[\"Synthetic Responses\"])\n",
    "\n",
    "    # Convert counts to proportions\n",
    "    total_responses = sum(synthetic_counts.values())\n",
    "    synthetic_proportions = {k: v / total_responses for k, v in synthetic_counts.items()}\n",
    "\n",
    "    # Ensure all keys in UKHLS data are present in synthetic data\n",
    "    for key in data.keys():\n",
    "        if key not in synthetic_proportions:\n",
    "            synthetic_proportions[key] = 0.0\n",
    "\n",
    "    # Compute the absolute differences\n",
    "    absolute_differences = {k: abs(synthetic_proportions[k] - data[k]) for k in data.keys()}\n",
    "\n",
    "    # Calculate MAF1\n",
    "    maf1 = sum(absolute_differences.values()) / len(absolute_differences)\n",
    "\n",
    "    # Print results\n",
    "    print(maf1)\n",
    "    print(absolute_differences)\n",
    "\n",
    "    return maf1, absolute_differences"
   ]
  },
  {
   "cell_type": "code",
   "execution_count": 14,
   "metadata": {},
   "outputs": [
    {
     "name": "stdout",
     "output_type": "stream",
     "text": [
      "0.20000000000000004\n",
      "{\"Don't do Anything Environmentally Friendly\": 0.05744607582255893, 'Do One or Two Things Environmentally Friendly': 0.3565726450239489, 'Do Some Things Environmentally Friendly': 0.40453307453902265, 'Do Many Things Environmentally Friendly': 0.1623203831825439, 'Do Everything Environmentally Friendly': 0.019127821431925617}\n",
      "Question 1 MAF1 Score: 0.20000000000000004\n",
      "Question 1 Absolute Differences: {\"Don't do Anything Environmentally Friendly\": 0.05744607582255893, 'Do One or Two Things Environmentally Friendly': 0.3565726450239489, 'Do Some Things Environmentally Friendly': 0.40453307453902265, 'Do Many Things Environmentally Friendly': 0.1623203831825439, 'Do Everything Environmentally Friendly': 0.019127821431925617}\n",
      "0.18632\n",
      "{'Strongly agree': 0.0813, 'Tend to agree': 0.3675, 'Neither': 0.3391, 'Tend to disagree': 0.1186, 'Strongly disagree': 0.0251}\n",
      "Question 2 MAF1 Score: 0.18632\n",
      "Question 2 Absolute Differences: {'Strongly agree': 0.0813, 'Tend to agree': 0.3675, 'Neither': 0.3391, 'Tend to disagree': 0.1186, 'Strongly disagree': 0.0251}\n",
      "0.199988\n",
      "{'Strongly agree': 0.06801, 'Tend to agree': 0.38521, 'Neither agree nor disagree': 0.31061, 'Tend to disagree': 0.19079, 'Strongly disagree': 0.04532}\n",
      "Question 3 MAF1 Score: 0.199988\n",
      "Question 3 Absolute Differences: {'Strongly agree': 0.06801, 'Tend to agree': 0.38521, 'Neither agree nor disagree': 0.31061, 'Tend to disagree': 0.19079, 'Strongly disagree': 0.04532}\n",
      "0.2\n",
      "{'Strongly Agree': 0.05, 'Agree': 0.45, 'Disagree': 0.28, 'Strongly Disagree': 0.02, 'Already Changed': 0.2}\n",
      "Question 4 MAF1 Score: 0.2\n",
      "Question 4 Absolute Differences: {'Strongly Agree': 0.05, 'Agree': 0.45, 'Disagree': 0.28, 'Strongly Disagree': 0.02, 'Already Changed': 0.2}\n",
      "0.2\n",
      "{'Strongly Agree': 0.18344749929623722, 'Tend to Agree': 0.4056801476337931, 'Neither': 0.29983422476619437, 'Tend to Disagree': 0.08720402865096494, 'Strongly Disagree': 0.02383409965281036}\n",
      "Question 5 MAF1 Score: 0.2\n",
      "Question 5 Absolute Differences: {'Strongly Agree': 0.18344749929623722, 'Tend to Agree': 0.4056801476337931, 'Neither': 0.29983422476619437, 'Tend to Disagree': 0.08720402865096494, 'Strongly Disagree': 0.02383409965281036}\n",
      "0.23986919009184524\n",
      "{'Yes - already buy': 0.06778179794043974, 'Yes - seriously considering': 0.02854160868355135, 'No': 0.7834149735596994, 'Considered and rejected': 0.07973838018369052}\n",
      "Question 6 MAF1 Score: 0.23986919009184524\n",
      "Question 6 Absolute Differences: {'Yes - already buy': 0.06778179794043974, 'Yes - seriously considering': 0.02854160868355135, 'No': 0.7834149735596994, 'Considered and rejected': 0.07973838018369052}\n",
      "0.4773834814654238\n",
      "{'Yes': 0.0773834814654238, 'No': 0.8773834814654238}\n",
      "Question 7 MAF1 Score: 0.4773834814654238\n",
      "Question 7 Absolute Differences: {'Yes': 0.0773834814654238, 'No': 0.8773834814654238}\n",
      "0.5\n",
      "{'Mentioned': 0.01747693399574166, 'Not Mentioned': 0.9825230660042583}\n",
      "Question 8 MAF1 Score: 0.5\n",
      "Question 8 Absolute Differences: {'Mentioned': 0.01747693399574166, 'Not Mentioned': 0.9825230660042583}\n",
      "0.2\n",
      "{'Strongly Agree': 0.023180879684664958, 'Tend to Agree': 0.1169993117687543, 'Neither': 0.32597134455358817, 'Tend to Disagree': 0.3920102609022086, 'Strongly Disagree': 0.14183820309078396}\n",
      "Question 9 MAF1 Score: 0.2\n",
      "Question 9 Absolute Differences: {'Strongly Agree': 0.023180879684664958, 'Tend to Agree': 0.1169993117687543, 'Neither': 0.32597134455358817, 'Tend to Disagree': 0.3920102609022086, 'Strongly Disagree': 0.14183820309078396}\n",
      "Average MAF1 Score: 0.26706229683969657\n",
      "Total Absolute Differences: Counter({'No': 1.6607984550251231, 'Not Mentioned': 0.9825230660042583, 'Neither': 0.9649055693197826, 'Tend to agree': 0.75271, 'Tend to Agree': 0.5226794594025475, 'Tend to Disagree': 0.4792142895531735, 'Agree': 0.45, 'Do Some Things Environmentally Friendly': 0.40453307453902265, 'Do One or Two Things Environmentally Friendly': 0.3565726450239489, 'Neither agree nor disagree': 0.31061, 'Tend to disagree': 0.30939, 'Disagree': 0.28, 'Strongly Agree': 0.2566283789809022, 'Already Changed': 0.2, 'Strongly Disagree': 0.1856723027435943, 'Do Many Things Environmentally Friendly': 0.1623203831825439, 'Strongly agree': 0.14931, 'Considered and rejected': 0.07973838018369052, 'Yes': 0.0773834814654238, 'Strongly disagree': 0.07042, 'Yes - already buy': 0.06778179794043974, \"Don't do Anything Environmentally Friendly\": 0.05744607582255893, 'Yes - seriously considering': 0.02854160868355135, 'Do Everything Environmentally Friendly': 0.019127821431925617, 'Mentioned': 0.01747693399574166})\n",
      "Average Absolute Difference: 0.3538313489319292\n"
     ]
    }
   ],
   "source": [
    "question_index = 0\n",
    "\n",
    "sum_maf1 = 0\n",
    "sum_absolute_differences = Counter()\n",
    "\n",
    "for question_json_file, data_json_file in zip(questions_json_files, questions_data_files):\n",
    "    maf1_score, absolute_differences = calculate_maf1_and_absolute_difference(base_data_path, data_json_file, base_synthetic_responses_path, question_json_file)\n",
    "    print(f\"Question {question_index + 1} MAF1 Score: {maf1_score}\")\n",
    "    print(f\"Question {question_index + 1} Absolute Differences: {absolute_differences}\")\n",
    "\n",
    "    sum_maf1 += maf1_score\n",
    "    sum_absolute_differences.update(absolute_differences)\n",
    "\n",
    "    question_index += 1\n",
    "\n",
    "print(f\"Average MAF1 Score: {sum_maf1 / len(questions_json_files)}\")\n",
    "print(f\"Total Absolute Differences: {sum_absolute_differences}\")\n",
    "\n",
    "# Calculate the total sum of absolute differences and the number of differences\n",
    "total_sum_absolute_differences = 0\n",
    "total_number_of_differences = 0\n",
    "\n",
    "for diff, count in sum_absolute_differences.items():\n",
    "    # Ensure that the difference is a number\n",
    "    try:\n",
    "        total_sum_absolute_differences += count\n",
    "        total_number_of_differences += 1\n",
    "    except (ValueError, TypeError) as e:\n",
    "        pass\n",
    "\n",
    "# Calculate the average of absolute differences\n",
    "if total_number_of_differences > 0:\n",
    "    average_absolute_difference = total_sum_absolute_differences / total_number_of_differences\n",
    "else:\n",
    "    average_absolute_difference = 0\n",
    "\n",
    "print(f\"Average Absolute Difference: {average_absolute_difference}\")"
   ]
  },
  {
   "cell_type": "code",
   "execution_count": null,
   "metadata": {},
   "outputs": [],
   "source": [
    "q2_maf1, q2_absolute_differences = calculate_maf1_and_absolute_difference(base_data_path, question_2_data_file, base_synthetic_responses_path, question_2_json_file)\n",
    "\n",
    "print(\"Question 2 MAF1: \", q2_maf1)\n",
    "print(\"Question 2 Absolute Differences: \", q2_absolute_differences)"
   ]
  },
  {
   "cell_type": "code",
   "execution_count": null,
   "metadata": {},
   "outputs": [],
   "source": [
    "# load data \n",
    "with open(base_data_path + question_2_data_file) as f:\n",
    "    data = json.load(f)\n",
    "\n",
    "with open(base_synthetic_responses_path + question_2_json_file) as f:\n",
    "    responses = json.load(f)"
   ]
  },
  {
   "cell_type": "code",
   "execution_count": null,
   "metadata": {},
   "outputs": [],
   "source": [
    "# Aggregate synthetic responses\n",
    "synthetic_counts = Counter()\n",
    "for response in responses:\n",
    "    synthetic_counts.update(response[\"Synthetic Responses\"])"
   ]
  },
  {
   "cell_type": "code",
   "execution_count": null,
   "metadata": {},
   "outputs": [],
   "source": [
    "# Convert counts to proportions\n",
    "total_responses = sum(synthetic_counts.values())\n",
    "synthetic_proportions = {k: v / total_responses for k, v in synthetic_counts.items()}"
   ]
  },
  {
   "cell_type": "code",
   "execution_count": null,
   "metadata": {},
   "outputs": [],
   "source": [
    "# Ensure all keys in UKHLS data are present in synthetic data\n",
    "for key in data.keys():\n",
    "    if key not in synthetic_proportions:\n",
    "        synthetic_proportions[key] = 0.0"
   ]
  },
  {
   "cell_type": "code",
   "execution_count": null,
   "metadata": {},
   "outputs": [],
   "source": [
    "# Compute the absolute differences\n",
    "absolute_differences = {k: abs(synthetic_proportions[k] - data[k]) for k in data.keys()}\n",
    "\n",
    "# Calculate MAF1\n",
    "maf1 = sum(absolute_differences.values()) / len(absolute_differences)"
   ]
  },
  {
   "cell_type": "code",
   "execution_count": null,
   "metadata": {},
   "outputs": [],
   "source": [
    "print(maf1)"
   ]
  },
  {
   "cell_type": "code",
   "execution_count": null,
   "metadata": {},
   "outputs": [],
   "source": [
    "print(absolute_differences)"
   ]
  },
  {
   "cell_type": "code",
   "execution_count": null,
   "metadata": {},
   "outputs": [],
   "source": []
  }
 ],
 "metadata": {
  "kernelspec": {
   "display_name": "Python 3",
   "language": "python",
   "name": "python3"
  },
  "language_info": {
   "codemirror_mode": {
    "name": "ipython",
    "version": 3
   },
   "file_extension": ".py",
   "mimetype": "text/x-python",
   "name": "python",
   "nbconvert_exporter": "python",
   "pygments_lexer": "ipython3",
   "version": "3.11.0"
  }
 },
 "nbformat": 4,
 "nbformat_minor": 2
}
