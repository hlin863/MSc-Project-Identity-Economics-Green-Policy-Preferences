{
 "cells": [
  {
   "cell_type": "code",
   "execution_count": 1,
   "metadata": {},
   "outputs": [],
   "source": [
    "import json\n",
    "from collections import Counter"
   ]
  },
  {
   "cell_type": "code",
   "execution_count": 2,
   "metadata": {},
   "outputs": [],
   "source": [
    "base_synthetic_responses_path = 'C:\\\\Users\\\\haoch\\\\Documents\\\\COMP0190\\\\Data\\\\COMP0191-MSc-Project-Code\\\\Synthetic-Responses-JSON'\n",
    "base_data_path = 'C:\\\\Users\\\\haoch\\\\Documents\\\\COMP0190\\\\Data\\\\COMP0191-MSc-Project-Code\\\\Environmental-Views-Variables'"
   ]
  },
  {
   "cell_type": "code",
   "execution_count": 3,
   "metadata": {},
   "outputs": [],
   "source": [
    "question_2_json_file = \"\\\\q2_synthetic_responses.json\"\n",
    "question_2_data_file = \"\\\\scenv_bccc\\\\Scenv Bccc Probability Distribution Wave 10.json\""
   ]
  },
  {
   "cell_type": "code",
   "execution_count": 4,
   "metadata": {},
   "outputs": [],
   "source": [
    "# load data \n",
    "with open(base_data_path + question_2_data_file) as f:\n",
    "    data = json.load(f)\n",
    "\n",
    "with open(base_synthetic_responses_path + question_2_json_file) as f:\n",
    "    responses = json.load(f)"
   ]
  },
  {
   "cell_type": "code",
   "execution_count": 5,
   "metadata": {},
   "outputs": [],
   "source": [
    "# Aggregate synthetic responses\n",
    "synthetic_counts = Counter()\n",
    "for response in responses:\n",
    "    synthetic_counts.update(response[\"Synthetic Responses\"])"
   ]
  },
  {
   "cell_type": "code",
   "execution_count": 6,
   "metadata": {},
   "outputs": [],
   "source": [
    "# Convert counts to proportions\n",
    "total_responses = sum(synthetic_counts.values())\n",
    "synthetic_proportions = {k: v / total_responses for k, v in synthetic_counts.items()}"
   ]
  },
  {
   "cell_type": "code",
   "execution_count": 7,
   "metadata": {},
   "outputs": [],
   "source": [
    "# Ensure all keys in UKHLS data are present in synthetic data\n",
    "for key in data.keys():\n",
    "    if key not in synthetic_proportions:\n",
    "        synthetic_proportions[key] = 0.0"
   ]
  },
  {
   "cell_type": "code",
   "execution_count": 8,
   "metadata": {},
   "outputs": [],
   "source": [
    "# Compute the absolute differences\n",
    "absolute_differences = {k: abs(synthetic_proportions[k] - data[k]) for k in data.keys()}\n",
    "\n",
    "# Calculate MAF1\n",
    "maf1 = sum(absolute_differences.values()) / len(absolute_differences)"
   ]
  },
  {
   "cell_type": "code",
   "execution_count": 10,
   "metadata": {},
   "outputs": [
    {
     "name": "stdout",
     "output_type": "stream",
     "text": [
      "0.18632\n"
     ]
    }
   ],
   "source": [
    "print(maf1)"
   ]
  },
  {
   "cell_type": "code",
   "execution_count": 11,
   "metadata": {},
   "outputs": [
    {
     "name": "stdout",
     "output_type": "stream",
     "text": [
      "{'Strongly agree': 0.0813, 'Tend to agree': 0.3675, 'Neither': 0.3391, 'Tend to disagree': 0.1186, 'Strongly disagree': 0.0251}\n"
     ]
    }
   ],
   "source": [
    "print(absolute_differences)"
   ]
  },
  {
   "cell_type": "code",
   "execution_count": null,
   "metadata": {},
   "outputs": [],
   "source": []
  }
 ],
 "metadata": {
  "kernelspec": {
   "display_name": "Python 3",
   "language": "python",
   "name": "python3"
  },
  "language_info": {
   "codemirror_mode": {
    "name": "ipython",
    "version": 3
   },
   "file_extension": ".py",
   "mimetype": "text/x-python",
   "name": "python",
   "nbconvert_exporter": "python",
   "pygments_lexer": "ipython3",
   "version": "3.11.0"
  }
 },
 "nbformat": 4,
 "nbformat_minor": 2
}
