{
 "cells": [
  {
   "cell_type": "code",
   "execution_count": 1,
   "metadata": {},
   "outputs": [],
   "source": [
    "import json\n",
    "from collections import Counter\n",
    "from sklearn.metrics.pairwise import cosine_similarity"
   ]
  },
  {
   "cell_type": "code",
   "execution_count": 2,
   "metadata": {},
   "outputs": [],
   "source": [
    "base_synthetic_responses_path = 'C:\\\\Users\\\\haoch\\\\Documents\\\\COMP0190\\\\Data\\\\COMP0191-MSc-Project-Code\\\\Synthetic-Responses-JSON'\n",
    "base_data_path = 'C:\\\\Users\\\\haoch\\\\Documents\\\\COMP0190\\\\Data\\\\COMP0191-MSc-Project-Code\\\\Environmental-Views-Variables'"
   ]
  },
  {
   "cell_type": "code",
   "execution_count": 3,
   "metadata": {},
   "outputs": [],
   "source": [
    "question_1_json_file = \"\\\\synthetic_responses_demo.json\"\n",
    "question_1_data_file = \"\\\\scenv_crlf\\\\Environmental Friendly Behaviour Probability Distribution Wave 10.json\"\n",
    "question_1_response_options = [\"don't do anything environmentally friendly\", 'do one or two things environmentally friendly', 'do some things environmentally friendly', 'do many things environmentally friendly', 'do everything environmentally friendly']"
   ]
  },
  {
   "cell_type": "code",
   "execution_count": 4,
   "metadata": {},
   "outputs": [],
   "source": [
    "question_2_json_file = \"\\\\q2_synthetic_responses.json\"\n",
    "question_2_data_file = \"\\\\scenv_bccc\\\\Scenv Bccc Probability Distribution Wave 10.json\""
   ]
  },
  {
   "cell_type": "code",
   "execution_count": 5,
   "metadata": {},
   "outputs": [],
   "source": [
    "question_3_json_file = \"\\\\q3_synthetic_responses.json\"\n",
    "question_3_data_file = \"\\\\scenv_pmep\\\\Scenv Pmep Probability Distribution Wave 10.json\""
   ]
  },
  {
   "cell_type": "code",
   "execution_count": 6,
   "metadata": {},
   "outputs": [],
   "source": [
    "question_4_json_file = \"\\\\q4_synthetic_responses.json\"\n",
    "question_4_data_file = \"\\\\OpenVB\\\\Open VB Probability Distribution Wave 18.json\""
   ]
  },
  {
   "cell_type": "code",
   "execution_count": 7,
   "metadata": {},
   "outputs": [],
   "source": [
    "question_5_json_file = \"\\\\q5_synthetic_responses.json\"\n",
    "question_5_data_file = \"\\\\scenv_meds\\\\Scenv Meds Probability Distribution Wave 10.json\""
   ]
  },
  {
   "cell_type": "code",
   "execution_count": 8,
   "metadata": {},
   "outputs": [],
   "source": [
    "question_6_json_file = \"\\\\q6_synthetic_responses.json\"\n",
    "question_6_data_file = \"\\\\etariff\\\\etariff Probability Distribution Wave 10.json\""
   ]
  },
  {
   "cell_type": "code",
   "execution_count": 9,
   "metadata": {},
   "outputs": [],
   "source": [
    "question_7_json_file = \"\\\\q7_synthetic_responses.json\"\n",
    "question_7_data_file = \"\\\\grimyn\\\\grimyn Probability Distribution Wave 3.json\""
   ]
  },
  {
   "cell_type": "code",
   "execution_count": 10,
   "metadata": {},
   "outputs": [],
   "source": [
    "question_8_json_file = \"\\\\q8_synthetic_responses.json\"\n",
    "question_8_data_file = \"\\\\orga3\\\\orga3 Probability Distribution Wave 3.json\""
   ]
  },
  {
   "cell_type": "code",
   "execution_count": 11,
   "metadata": {},
   "outputs": [],
   "source": [
    "question_9_json_file = \"\\\\q9_synthetic_responses.json\"\n",
    "question_9_data_file = \"\\\\scenv_tlat\\\\Scenv Tlat Probability Distribution Wave 10.json\""
   ]
  },
  {
   "cell_type": "code",
   "execution_count": 12,
   "metadata": {},
   "outputs": [],
   "source": [
    "questions_json_files = [question_1_json_file, question_2_json_file, question_3_json_file, question_4_json_file, question_5_json_file, question_6_json_file, question_7_json_file, question_8_json_file, question_9_json_file]\n",
    "questions_data_files = [question_1_data_file, question_2_data_file, question_3_data_file, question_4_data_file, question_5_data_file, question_6_data_file, question_7_data_file, question_8_data_file, question_9_data_file]"
   ]
  },
  {
   "cell_type": "markdown",
   "metadata": {},
   "source": [
    "## MAF1 and Absolute Difference Calculation"
   ]
  },
  {
   "cell_type": "code",
   "execution_count": 13,
   "metadata": {},
   "outputs": [],
   "source": [
    "def calculate_maf1_and_absolute_difference(base_data_path, question_2_data_file, base_synthetic_responses_path, question_2_json_file):\n",
    "    # Load data\n",
    "    with open(base_data_path + question_2_data_file) as f:\n",
    "        data = json.load(f)\n",
    "\n",
    "    with open(base_synthetic_responses_path + question_2_json_file) as f:\n",
    "        responses = json.load(f)\n",
    "\n",
    "    # Aggregate synthetic responses\n",
    "    synthetic_counts = Counter()\n",
    "    for response in responses:\n",
    "        synthetic_counts.update(response[\"Synthetic Responses\"])\n",
    "\n",
    "    # Convert counts to proportions\n",
    "    total_responses = sum(synthetic_counts.values())\n",
    "    synthetic_proportions = {k: v / total_responses for k, v in synthetic_counts.items()}\n",
    "\n",
    "    # convert the keys of synthetic_proportions to lowercase\n",
    "    synthetic_proportions = {k.lower(): v for k, v in synthetic_proportions.items()}\n",
    "    data = {k.lower(): v for k, v in data.items()}\n",
    "\n",
    "    # if the keys are \"neither agree nor disagree\", simplify the key to neither\n",
    "    if \"neither agree nor disagree\" in synthetic_proportions:\n",
    "        synthetic_proportions[\"neither\"] = synthetic_proportions[\"neither agree nor disagree\"]\n",
    "        del synthetic_proportions[\"neither agree nor disagree\"]\n",
    "\n",
    "    if \"neither agree nor disagree\" in data:\n",
    "        data[\"neither\"] = data[\"neither agree nor disagree\"]\n",
    "        del data[\"neither agree nor disagree\"]\n",
    "\n",
    "    # Ensure all keys in UKHLS data are present in synthetic data\n",
    "    for key in data.keys():\n",
    "        if key not in synthetic_proportions:\n",
    "            synthetic_proportions[key] = 0\n",
    "\n",
    "    if \"neither\" in data:\n",
    "        print(data)\n",
    "    if \"neither\" in synthetic_proportions:\n",
    "        print(synthetic_proportions)\n",
    "\n",
    "    # Compute the absolute differences\n",
    "    absolute_differences = {k: abs(synthetic_proportions[k] - data[k]) for k in data.keys()}\n",
    "\n",
    "    normalized_absolute_differences = {k: v / data[k] for k, v in absolute_differences.items()}\n",
    "\n",
    "    # multiply both synthetic_proportions and data by total_responses to get the counts in integer form\n",
    "    synthetic_proportions = {k: int(v * total_responses) for k, v in synthetic_proportions.items()}\n",
    "    data = {k: int(v * total_responses) for k, v in data.items()}\n",
    "\n",
    "    cosine_similarity_score = cosine_similarity([list(synthetic_proportions.values())], [list(data.values())])[0][0]  \n",
    "\n",
    "    return absolute_differences, normalized_absolute_differences, cosine_similarity_score"
   ]
  },
  {
   "cell_type": "code",
   "execution_count": 14,
   "metadata": {},
   "outputs": [
    {
     "name": "stdout",
     "output_type": "stream",
     "text": [
      "Question 1 Absolute Differences: {\"don't do anything environmentally friendly\": 0.01744607582255893, 'do one or two things environmentally friendly': 0.3365726450239489, 'do some things environmentally friendly': 0.11546692546097737, 'do many things environmentally friendly': 0.2576796168174561, 'do everything environmentally friendly': 0.019127821431925617}\n",
      "Question 1 Cosine Similarity Scores: 0.5018483906814953\n",
      "{'strongly agree': 0.0813, 'tend to agree': 0.3675, 'neither': 0.3391, 'tend to disagree': 0.1186, 'strongly disagree': 0.0251}\n",
      "{'neither': 0.42, 'tend to agree': 0.13, 'tend to disagree': 0.32, 'strongly agree': 0.03, 'strongly disagree': 0.1}\n",
      "Question 2 Absolute Differences: {'strongly agree': 0.0513, 'tend to agree': 0.2375, 'neither': 0.08089999999999997, 'tend to disagree': 0.20140000000000002, 'strongly disagree': 0.07490000000000001}\n",
      "Question 2 Cosine Similarity Scores: 0.6809647376971487\n",
      "{'strongly agree': 0.06801, 'tend to agree': 0.38521, 'tend to disagree': 0.19079, 'strongly disagree': 0.04532, 'neither': 0.31061}\n",
      "{'neither': 0.25, 'strongly agree': 0.17, 'tend to disagree': 0.11, 'tend to agree': 0.44, 'strongly disagree': 0.03}\n",
      "Question 3 Absolute Differences: {'strongly agree': 0.10199000000000001, 'tend to agree': 0.054790000000000005, 'tend to disagree': 0.08078999999999999, 'strongly disagree': 0.01532, 'neither': 0.06061}\n",
      "Question 3 Cosine Similarity Scores: 0.4396335236820688\n",
      "Question 4 Absolute Differences: {'strongly agree': 0.51, 'agree': 0.43, 'disagree': 0.02999999999999997, 'strongly disagree': 0.06999999999999999, 'already changed': 0.18000000000000002}\n",
      "Question 4 Cosine Similarity Scores: 0.4337773606479943\n",
      "{'strongly agree': 0.18344749929623722, 'tend to agree': 0.4056801476337931, 'neither': 0.29983422476619437, 'tend to disagree': 0.08720402865096494, 'strongly disagree': 0.02383409965281036}\n",
      "{'neither': 0.3, 'tend to agree': 0.13, 'strongly disagree': 0.14, 'tend to disagree': 0.38, 'strongly agree': 0.05}\n",
      "Question 5 Absolute Differences: {'strongly agree': 0.13344749929623723, 'tend to agree': 0.2756801476337931, 'neither': 0.00016577523380562065, 'tend to disagree': 0.29279597134903507, 'strongly disagree': 0.11616590034718965}\n",
      "Question 5 Cosine Similarity Scores: 0.639583807292686\n",
      "Question 6 Absolute Differences: {'yes - already buy': 0.062218202059560246, 'yes - seriously considering': 0.4914583913164486, 'no': 0.5334149735596994, 'considered and rejected': 0.02026161981630949}\n",
      "Question 6 Cosine Similarity Scores: 0.3533409033086986\n",
      "Question 7 Absolute Differences: {'yes': 0.5773834814654237, 'no': 0.5773834814654237}\n",
      "Question 7 Cosine Similarity Scores: 0.5197908822157628\n",
      "Question 8 Absolute Differences: {'mentioned': 0.5025230660042583, 'not mentioned': 0.5025230660042583}\n",
      "Question 8 Cosine Similarity Scores: 0.7416860577774043\n",
      "{'strongly agree': 0.023180879684664958, 'tend to agree': 0.1169993117687543, 'neither': 0.32597134455358817, 'tend to disagree': 0.3920102609022086, 'strongly disagree': 0.14183820309078396}\n",
      "{'tend to disagree': 0.43, 'strongly disagree': 0.22, 'neither': 0.31, 'tend to agree': 0.04, 'strongly agree': 0}\n",
      "Question 9 Absolute Differences: {'strongly agree': 0.023180879684664958, 'tend to agree': 0.0769993117687543, 'neither': 0.015971344553588174, 'tend to disagree': 0.03798973909779141, 'strongly disagree': 0.07816179690921604}\n",
      "Question 9 Cosine Similarity Scores: 0.4792192637296362\n"
     ]
    }
   ],
   "source": [
    "question_index = 0\n",
    "\n",
    "sum_maf1 = 0\n",
    "sum_absolute_differences = Counter()\n",
    "\n",
    "overall_normalized_absolute_differences = []\n",
    "\n",
    "cosine_similarity_scores = []\n",
    "\n",
    "for question_json_file, data_json_file in zip(questions_json_files, questions_data_files):\n",
    "    absolute_differences, normalized_absolute_differences, cosine_similarity_score = calculate_maf1_and_absolute_difference(base_data_path, data_json_file, base_synthetic_responses_path, question_json_file)\n",
    "    print(f\"Question {question_index + 1} Absolute Differences: {absolute_differences}\")\n",
    "    # print(f\"Question {question_index + 1} Normalized Absolute Differences: {normalized_absolute_differences}\")\n",
    "    print(f\"Question {question_index + 1} Cosine Similarity Scores: {cosine_similarity_score}\")\n",
    "\n",
    "    # store the absolute differences in text files\n",
    "    with open(f\"question_{question_index + 1}_absolute_differences.txt\", \"w\") as f:\n",
    "        f.write(json.dumps(absolute_differences))\n",
    "\n",
    "    overall_normalized_absolute_differences.append(normalized_absolute_differences)\n",
    "\n",
    "    sum_absolute_differences.update(absolute_differences)\n",
    "\n",
    "    cosine_similarity_scores.append(cosine_similarity_score)\n",
    "\n",
    "    question_index += 1\n",
    "\n",
    "# write cosine similarity score to a text file\n",
    "with open(\"cosine_similarity_scores.text\", \"w\") as f:\n",
    "    f.write(json.dumps(cosine_similarity_scores))"
   ]
  },
  {
   "cell_type": "code",
   "execution_count": 15,
   "metadata": {},
   "outputs": [
    {
     "name": "stdout",
     "output_type": "stream",
     "text": [
      "Average Absolute Difference: 0.3621758866061162\n"
     ]
    }
   ],
   "source": [
    "# Calculate the total sum of absolute differences and the number of differences\n",
    "total_sum_absolute_differences = 0\n",
    "total_number_of_differences = 0\n",
    "\n",
    "for diff, count in sum_absolute_differences.items():\n",
    "    # Ensure that the difference is a number\n",
    "    try:\n",
    "        total_sum_absolute_differences += count\n",
    "        total_number_of_differences += 1\n",
    "    except (ValueError, TypeError) as e:\n",
    "        pass\n",
    "\n",
    "# Calculate the average of absolute differences\n",
    "if total_number_of_differences > 0:\n",
    "    average_absolute_difference = total_sum_absolute_differences / total_number_of_differences\n",
    "else:\n",
    "    average_absolute_difference = 0\n",
    "\n",
    "print(f\"Average Absolute Difference: {average_absolute_difference}\")"
   ]
  },
  {
   "cell_type": "code",
   "execution_count": 16,
   "metadata": {},
   "outputs": [
    {
     "name": "stdout",
     "output_type": "stream",
     "text": [
      "{\"don't do anything environmentally friendly\": 0.3036948228882833, 'do one or two things environmentally friendly': 0.9439104477611939, 'do some things environmentally friendly': 0.28543259557344064, 'do many things environmentally friendly': 1.5874754098360655, 'do everything environmentally friendly': 1.0}\n",
      "{'strongly agree': 0.6309963099630996, 'tend to agree': 0.6462585034013605, 'neither': 0.23857269242111462, 'tend to disagree': 1.6981450252951098, 'strongly disagree': 2.9840637450199203}\n",
      "{'strongly agree': 1.4996324069989708, 'tend to agree': 0.14223410607201267, 'tend to disagree': 0.42344986634519627, 'strongly disagree': 0.33804060017652254, 'neither': 0.19513215929944303}\n",
      "{'strongly agree': 10.2, 'agree': 0.9555555555555555, 'disagree': 0.10714285714285703, 'strongly disagree': 3.4999999999999996, 'already changed': 0.9}\n",
      "{'strongly agree': 0.7274424552429668, 'tend to agree': 0.679550501156515, 'neither': 0.0005528896307114018, 'tend to disagree': 3.357596843615495, 'strongly disagree': 4.873937007874017}\n",
      "{'yes - already buy': 0.7087824984147113, 'yes - seriously considering': 6.257299787384833, 'no': 0.655772257578868, 'considered and rejected': 1.0}\n",
      "{'yes': 5.126987487969201, 'no': 0.6506583608159276}\n",
      "{'mentioned': 28.753502538071068, 'not mentioned': 0.5114618510158013}\n",
      "{'strongly agree': 1.0, 'tend to agree': 0.6581176470588235, 'neither': 0.04899616122840687, 'tend to disagree': 0.09691006304365175, 'strongly disagree': 0.5510630789589767}\n"
     ]
    }
   ],
   "source": [
    "for normalized_difference in overall_normalized_absolute_differences:\n",
    "    print(normalized_difference)"
   ]
  },
  {
   "cell_type": "code",
   "execution_count": 17,
   "metadata": {},
   "outputs": [],
   "source": [
    "def calculate_maf1_and_absolute_difference_h1(base_data_path, question_2_data_file, question_2_json_file):\n",
    "    # Load data\n",
    "    with open(base_data_path + question_2_data_file) as f:\n",
    "        data = json.load(f)\n",
    "\n",
    "    with open(base_synthetic_responses_path + question_2_json_file) as f:\n",
    "        responses = json.load(f)\n",
    "\n",
    "    # convert the keys of synthetic_proportions to lowercase\n",
    "    synthetic_proportions = {k.lower(): v for k, v in responses.items()}\n",
    "    data = {k.lower(): v for k, v in data.items()}\n",
    "\n",
    "    total_responses = sum(data.values())\n",
    "\n",
    "    synthetic_proportions = {k: v / total_responses for k, v in synthetic_proportions.items()}\n",
    "    data = {k: v / total_responses for k, v in data.items()}\n",
    "\n",
    "    # if the keys are \"neither agree nor disagree\", simplify the key to neither\n",
    "    if \"neither agree nor disagree\" in synthetic_proportions:\n",
    "        synthetic_proportions[\"neither\"] = synthetic_proportions[\"neither agree nor disagree\"]\n",
    "        del synthetic_proportions[\"neither agree nor disagree\"]\n",
    "\n",
    "    if \"neither agree nor disagree\" in data:\n",
    "        data[\"neither\"] = data[\"neither agree nor disagree\"]\n",
    "        del data[\"neither agree nor disagree\"]\n",
    "\n",
    "    # Ensure all keys in UKHLS data are present in synthetic data\n",
    "    for key in data.keys():\n",
    "        if key not in synthetic_proportions:\n",
    "            synthetic_proportions[key] = 0\n",
    "\n",
    "    # Compute the absolute differences\n",
    "    absolute_differences = {k: abs(synthetic_proportions[k] - data[k]) for k in data.keys()}\n",
    "\n",
    "    # normalized_absolute_differences = {k: v / data[k] for k, v in absolute_differences.items()}\n",
    "    normalized_absolute_differences = 0\n",
    "\n",
    "    # multiply both synthetic_proportions and data by total_responses to get the counts in integer form\n",
    "    synthetic_proportions = {k: int(v * total_responses) for k, v in synthetic_proportions.items()}\n",
    "    data = {k: int(v * total_responses) for k, v in data.items()}\n",
    "\n",
    "    cosine_similarity_score = cosine_similarity([list(synthetic_proportions.values())], [list(data.values())])[0][0]  \n",
    "\n",
    "    return absolute_differences, normalized_absolute_differences, cosine_similarity_score"
   ]
  },
  {
   "cell_type": "code",
   "execution_count": 28,
   "metadata": {},
   "outputs": [],
   "source": [
    "base_synthetic_responses_path = 'C:\\\\Users\\\\haoch\\\\Documents\\\\COMP0190\\\\Data\\\\COMP0191-MSc-Project-Code\\\\Synthetic-Responses-JSON'\n",
    "q1_with_children_json_paths = [\"\\\\Hypothesis-1\\\\synthetic_responses_question_3_wave_1_with_children.json\", \"\\\\Hypothesis-1\\\\synthetic_responses_question_3_wave_5_with_children.json\", \"\\\\Hypothesis-1\\\\synthetic_responses_question_7_wave_10_with_children.json\"]\n",
    "q1_without_children_json_paths = [\"\\\\Hypothesis-1\\\\synthetic_responses_question_3_wave_1_without_children.json\", \"\\\\Hypothesis-1\\\\synthetic_responses_question_3_wave_5_without_children.json\", \"\\\\Hypothesis-1\\\\synthetic_responses_question_7_wave_10_without_children.json\"]\n",
    "wave_numbers = [1, 5, 10]"
   ]
  },
  {
   "cell_type": "code",
   "execution_count": 29,
   "metadata": {},
   "outputs": [
    {
     "name": "stdout",
     "output_type": "stream",
     "text": [
      "Question 1 Absolute Differences With and Without Children: {'strongly agree': 0.0, 'tend to agree': 0.0, 'neither': 0.0, 'tend to disagree': 0.0, 'strongly disagree': 0.0}\n",
      "Question 1 Cosine Similarity Scores With and Without Children: 1.0\n",
      "Question 2 Absolute Differences With and Without Children: {'strongly agree': 0.0, 'tend to agree': 0.0, 'neither': 0.0, 'tend to disagree': 0.0, 'strongly disagree': 0.0}\n",
      "Question 2 Cosine Similarity Scores With and Without Children: 0.9999999999999999\n",
      "Question 3 Absolute Differences With and Without Children: {'yes - already buy': 0.07, 'yes - seriously considering': 0.04999999999999999, 'no': 0.03, 'considered and rejected': 0.01}\n",
      "Question 3 Cosine Similarity Scores With and Without Children: 0.9889639934559099\n"
     ]
    }
   ],
   "source": [
    "question_index = 0\n",
    "\n",
    "sum_maf1 = 0\n",
    "sum_absolute_differences = Counter()\n",
    "\n",
    "overall_normalized_absolute_differences = []\n",
    "\n",
    "cosine_similarity_scores = []\n",
    "\n",
    "for question_json_file, data_json_file in zip(q1_with_children_json_paths, q1_without_children_json_paths):\n",
    "    absolute_differences, normalized_absolute_differences, cosine_similarity_score = calculate_maf1_and_absolute_difference_h1(base_synthetic_responses_path, data_json_file, question_json_file)\n",
    "    print(f\"Question {question_index + 1} Absolute Differences With and Without Children: {absolute_differences}\")\n",
    "    # print(f\"Question {question_index + 1} Normalized Absolute Differences: {normalized_absolute_differences}\")\n",
    "    print(f\"Question {question_index + 1} Cosine Similarity Scores With and Without Children: {cosine_similarity_score}\")\n",
    "\n",
    "    overall_normalized_absolute_differences.append(normalized_absolute_differences)\n",
    "\n",
    "    sum_absolute_differences.update(absolute_differences)\n",
    "\n",
    "    cosine_similarity_scores.append(cosine_similarity_score)\n",
    "\n",
    "    question_index += 1"
   ]
  }
 ],
 "metadata": {
  "kernelspec": {
   "display_name": "Python 3",
   "language": "python",
   "name": "python3"
  },
  "language_info": {
   "codemirror_mode": {
    "name": "ipython",
    "version": 3
   },
   "file_extension": ".py",
   "mimetype": "text/x-python",
   "name": "python",
   "nbconvert_exporter": "python",
   "pygments_lexer": "ipython3",
   "version": "3.11.0"
  }
 },
 "nbformat": 4,
 "nbformat_minor": 2
}
